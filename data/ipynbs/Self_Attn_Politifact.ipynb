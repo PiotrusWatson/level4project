{
  "nbformat": 4,
  "nbformat_minor": 0,
  "metadata": {
    "colab": {
      "name": "Self_Attn_Politifact.ipynb",
      "provenance": [],
      "collapsed_sections": [],
      "machine_shape": "hm",
      "include_colab_link": true
    },
    "kernelspec": {
      "name": "python3",
      "display_name": "Python 3"
    },
    "accelerator": "GPU"
  },
  "cells": [
    {
      "cell_type": "markdown",
      "metadata": {
        "id": "view-in-github",
        "colab_type": "text"
      },
      "source": [
        "<a href=\"https://colab.research.google.com/github/PiotrusWatson/level4project/blob/master/data/ipynbs/Self_Attn_Politifact.ipynb\" target=\"_parent\"><img src=\"https://colab.research.google.com/assets/colab-badge.svg\" alt=\"Open In Colab\"/></a>"
      ]
    },
    {
      "cell_type": "markdown",
      "metadata": {
        "id": "gv50EWWHrPzg",
        "colab_type": "text"
      },
      "source": [
        "#Hybrid Model on PolitiFact Dataset"
      ]
    },
    {
      "cell_type": "markdown",
      "metadata": {
        "id": "cOgQQ0mWrWfJ",
        "colab_type": "text"
      },
      "source": [
        "The Hybrid model is created as a combination of the DeClarE model (Popat et al.,2018) and Self-Attentive Sentence Embedding model (Lin et al.,2017). This model uses the overall structure of DeClarE but replaces its attention mechanism with the Self-attention created in the second paper. The code for the Self-Attention model can be found at: https://github.com/kaushalshetty/Structured-Self-Attention/blob/master . This code have been used as the base for the Hybrid model. Before running the code in Google Colab, please upload the config.json and model_params.json file which is provided as a part of the project code zip file. Both of these file contain the hyper-parameters of the model and were originally created by the developer of this code base."
      ]
    },
    {
      "cell_type": "markdown",
      "metadata": {
        "id": "ZTf9j0cnrGsF",
        "colab_type": "text"
      },
      "source": [
        "## Import Statements and Data load"
      ]
    },
    {
      "cell_type": "markdown",
      "metadata": {
        "id": "ogyFod2-5Gkb",
        "colab_type": "text"
      },
      "source": [
        "ALRIGHT NERDS ITS TIME FOR MORE ANNOTATIONS BAYBEEEEE\n",
        "\n",
        "LOOK AT ALL THESE IMPORTS\n"
      ]
    },
    {
      "cell_type": "code",
      "metadata": {
        "id": "L7ZE1b3gn8dD",
        "colab_type": "code",
        "outputId": "f4a6ff61-d05f-47d9-cd91-321abb7d8779",
        "colab": {
          "base_uri": "https://localhost:8080/",
          "height": 34
        }
      },
      "source": [
        "# Most of the code taken from https://github.com/kaushalshetty/Structured-Self-Attention/blob/master\n",
        "# All imports\n",
        "import json\n",
        "import pandas as pd\n",
        "import numpy as np\n",
        "from numpy import array\n",
        "from numpy import asarray\n",
        "from numpy import zeros\n",
        "import gzip\n",
        "\n",
        "from sklearn.model_selection import train_test_split\n",
        "from sklearn.metrics import confusion_matrix\n",
        "\n",
        "from sklearn.metrics import classification_report\n",
        "from sklearn.metrics import confusion_matrix\n",
        "from sklearn.metrics import precision_score\n",
        "from sklearn.metrics import recall_score\n",
        "from sklearn.metrics import accuracy_score\n",
        "from sklearn.metrics import fbeta_score\n",
        "from sklearn.metrics import roc_curve, auc\n",
        "\n",
        "from keras.preprocessing.text import Tokenizer\n",
        "from keras.preprocessing.sequence import pad_sequences\n",
        "from keras.utils import plot_model\n",
        "from keras.utils import np_utils\n",
        "\n",
        "from keras.optimizers import SGD, Adam\n",
        "from nltk import word_tokenize\n",
        "import matplotlib.pyplot as plt\n",
        "\n",
        "import torch,keras\n",
        "from torch.autograd import Variable\n",
        "import torch.nn.functional as F\n",
        "import torch.utils.data as data_utils\n",
        "from keras.datasets import imdb\n",
        "\n",
        "import random, os, numpy, scipy\n",
        "from codecs import open\n",
        "import os,sys"
      ],
      "execution_count": 3,
      "outputs": [
        {
          "output_type": "stream",
          "text": [
            "Using TensorFlow backend.\n"
          ],
          "name": "stderr"
        }
      ]
    },
    {
      "cell_type": "markdown",
      "metadata": {
        "id": "WKq8B8IX532j",
        "colab_type": "text"
      },
      "source": [
        "AS WITH LAST TIME, THE SAME SEED - I'M THINKING TO DIRECTLY COMPARE THE TWO MODELS"
      ]
    },
    {
      "cell_type": "code",
      "metadata": {
        "id": "ijDljoHJoMZQ",
        "colab_type": "code",
        "colab": {}
      },
      "source": [
        "# Random seed set to ensure that code provides the same output whenever randomisation is done.\n",
        "seed = 7\n",
        "np.random.seed(seed)"
      ],
      "execution_count": 0,
      "outputs": []
    },
    {
      "cell_type": "markdown",
      "metadata": {
        "id": "yXKQZ0k65_WD",
        "colab_type": "text"
      },
      "source": [
        "LETS GET THAT POLITIFACT DATASET UPPPPP MY DUDES. THIS IS USED AS THE TRAINING/TESTING DATA"
      ]
    },
    {
      "cell_type": "code",
      "metadata": {
        "id": "ZIQox57_oPpU",
        "colab_type": "code",
        "outputId": "daec0bcd-f0c9-4359-d20c-6b1903caa2bf",
        "colab": {
          "base_uri": "https://localhost:8080/",
          "height": 272
        }
      },
      "source": [
        "# Get the PolitiFact Dataset from the location provided in the DeClarE paper.\n",
        "!wget http://resources.mpi-inf.mpg.de/impact/dl_cred_analysis/PolitiFact.zip\n",
        "!unzip PolitiFact.zip"
      ],
      "execution_count": 5,
      "outputs": [
        {
          "output_type": "stream",
          "text": [
            "--2019-10-22 15:49:15--  http://resources.mpi-inf.mpg.de/impact/dl_cred_analysis/PolitiFact.zip\n",
            "Resolving resources.mpi-inf.mpg.de (resources.mpi-inf.mpg.de)... 139.19.206.46\n",
            "Connecting to resources.mpi-inf.mpg.de (resources.mpi-inf.mpg.de)|139.19.206.46|:80... connected.\n",
            "HTTP request sent, awaiting response... 200 OK\n",
            "Length: 4976217 (4.7M) [application/zip]\n",
            "Saving to: ‘PolitiFact.zip’\n",
            "\n",
            "PolitiFact.zip      100%[===================>]   4.75M  --.-KB/s    in 0.1s    \n",
            "\n",
            "2019-10-22 15:49:20 (33.1 MB/s) - ‘PolitiFact.zip’ saved [4976217/4976217]\n",
            "\n",
            "Archive:  PolitiFact.zip\n",
            "   creating: PolitiFact/\n",
            "  inflating: PolitiFact/README       \n",
            "  inflating: PolitiFact/politifact.tsv  \n"
          ],
          "name": "stdout"
        }
      ]
    },
    {
      "cell_type": "markdown",
      "metadata": {
        "id": "nkZnAQf46TgM",
        "colab_type": "text"
      },
      "source": [
        "WE TAKE THE GLOVE DATASET SO WE CAN USE PRETRAINED WORD EMBEDDINGS\n",
        "\n",
        "CAUSE WE'RE LAZY"
      ]
    },
    {
      "cell_type": "code",
      "metadata": {
        "id": "2nuFU97Xoe_0",
        "colab_type": "code",
        "outputId": "0dd040b7-7e45-4232-a290-c4fca841ed5d",
        "colab": {
          "base_uri": "https://localhost:8080/",
          "height": 442
        }
      },
      "source": [
        "# Download the Glove.zip file and expand it.\n",
        "!wget http://nlp.stanford.edu/data/glove.6B.zip\n",
        "!unzip glove*.zip"
      ],
      "execution_count": 6,
      "outputs": [
        {
          "output_type": "stream",
          "text": [
            "--2019-10-22 15:49:23--  http://nlp.stanford.edu/data/glove.6B.zip\n",
            "Resolving nlp.stanford.edu (nlp.stanford.edu)... 171.64.67.140\n",
            "Connecting to nlp.stanford.edu (nlp.stanford.edu)|171.64.67.140|:80... connected.\n",
            "HTTP request sent, awaiting response... 302 Found\n",
            "Location: https://nlp.stanford.edu/data/glove.6B.zip [following]\n",
            "--2019-10-22 15:49:24--  https://nlp.stanford.edu/data/glove.6B.zip\n",
            "Connecting to nlp.stanford.edu (nlp.stanford.edu)|171.64.67.140|:443... connected.\n",
            "HTTP request sent, awaiting response... 301 Moved Permanently\n",
            "Location: http://downloads.cs.stanford.edu/nlp/data/glove.6B.zip [following]\n",
            "--2019-10-22 15:49:24--  http://downloads.cs.stanford.edu/nlp/data/glove.6B.zip\n",
            "Resolving downloads.cs.stanford.edu (downloads.cs.stanford.edu)... 171.64.64.22\n",
            "Connecting to downloads.cs.stanford.edu (downloads.cs.stanford.edu)|171.64.64.22|:80... connected.\n",
            "HTTP request sent, awaiting response... 200 OK\n",
            "Length: 862182613 (822M) [application/zip]\n",
            "Saving to: ‘glove.6B.zip’\n",
            "\n",
            "glove.6B.zip        100%[===================>] 822.24M  2.01MB/s    in 6m 30s  \n",
            "\n",
            "2019-10-22 15:55:55 (2.11 MB/s) - ‘glove.6B.zip’ saved [862182613/862182613]\n",
            "\n",
            "Archive:  glove.6B.zip\n",
            "  inflating: glove.6B.50d.txt        \n",
            "  inflating: glove.6B.100d.txt       \n",
            "  inflating: glove.6B.200d.txt       \n",
            "  inflating: glove.6B.300d.txt       \n"
          ],
          "name": "stdout"
        }
      ]
    },
    {
      "cell_type": "markdown",
      "metadata": {
        "id": "jSeDOppErPpt",
        "colab_type": "text"
      },
      "source": [
        "## Data Load functions and other misc functions"
      ]
    },
    {
      "cell_type": "markdown",
      "metadata": {
        "id": "ixiqyMMm6qOz",
        "colab_type": "text"
      },
      "source": [
        "THIS IS QUITE NICE! A HELPER FUNCTION CREATED TO LOAD POLITIFACT INTO THE DATAFRAME (IS THIS BECAUSE IT WILL BE DONE MULTIPLE TIMES?)\n",
        "\n",
        "WE LOAD THE DATA, GIVING THEM LABELS, AND THEN CONVERT THE LABEL RANGE INTO BINARY VALUES: 1 FOR ANYTHING WITH \"TRUE\" IN IT (EVEN HALF-TRUE 🤔). THIS IS THEN STORED IN A LIST SOMEWHERE\n",
        "\n",
        "THEN WE USE THE KERAS FUNCTION train_test_split() TO SPLIT THE "
      ]
    },
    {
      "cell_type": "code",
      "metadata": {
        "id": "Xc5TtB7moikm",
        "colab_type": "code",
        "colab": {}
      },
      "source": [
        "# Method to load the PolitiFact into the Datafarme, process it and divide it into traning and test sets.\n",
        "def loadPolitifact():\n",
        "  facts=list()\n",
        "  fact=pd.read_csv('./PolitiFact/politifact.tsv', delimiter = '\\t', names = ['cred_label','claim_id','claim_text','claim_source','article','article_source'])\n",
        "  \n",
        "  # Convert label to binary\n",
        "  claim_label = fact['cred_label']\n",
        "  # The original credibility labels are -{'False', 'Half-True', 'Mostly False', 'Mostly True', 'Pants on Fire!', 'True'}\n",
        "  # Convert the labels to binary values of 0 for false and 1 for true.\n",
        "  claim_label = [1 if tuple == 'True'  or tuple == 'Half-True' or tuple == 'Mostly True' else 0 for tuple in claim_label]\n",
        "  \n",
        "  # Get Train and test sets\n",
        "  input_train,input_test,label_train,label_test = train_test_split(fact, claim_label, test_size=0.2, random_state=8)\n",
        "  # Convert the traning and test data as lists and return.\n",
        "  train_list= list()\n",
        "  train_list.append(input_train)\n",
        "  train_list.append(label_train)\n",
        "  \n",
        "  test_list = list()\n",
        "  test_list.append(input_test)\n",
        "  test_list.append(label_test)\n",
        "  return train_list, test_list"
      ],
      "execution_count": 0,
      "outputs": []
    },
    {
      "cell_type": "code",
      "metadata": {
        "id": "McZ9Q2gPpPFw",
        "colab_type": "code",
        "colab": {}
      },
      "source": [
        "# Get Politifact dataset. This method calls the previous method\n",
        "def load_data_set(type,max_len,vocab_size,batch_size):\n",
        "    \"\"\"\n",
        "        Loads the dataset.\n",
        " \n",
        "        Args:\n",
        "            type   : {bool} 0 for binary classification returns imdb dataset. 1 for multiclass classfication return reuters set\n",
        "            max_len: {int} timesteps used for padding\n",
        "\t\t\tvocab_size: {int} size of the vocabulary\n",
        "\t\t\tbatch_size: batch_size\n",
        "      \n",
        "        \"\"\"\n",
        "    NUM_WORDS=vocab_size\n",
        "    # Get the PolitiFact dataframe \n",
        "    train_set,test_set = loadPolitifact()\n",
        "    x_train,y_train = train_set[0],train_set[1]\n",
        "    x_test,y_test = test_set[0],test_set[1]\n",
        "\n",
        "    # Code to check how many unique claims are present in the test set.\n",
        "    # Code found here: https://stackoverflow.com/questions/23460345/selecting-unique-rows-between-two-dataframes-in-pandas\n",
        "    unique_test = x_test[~x_test['claim_text'].isin(x_train['claim_text'])]\n",
        "    uniq_set = set(unique_test['claim_text'].tolist())\n",
        "    print(\"There are %d total unique rows in the test set and %d unique claims\" % (len(unique_test),len(uniq_set)))\n",
        "    # Get the required columns as lists for both traning and test data\n",
        "    art_list = x_train['article'].tolist()\n",
        "    clm_list = x_train['claim_text'].tolist()\n",
        "    clm_src_list = x_train['claim_source'].tolist()\n",
        "    art_src_list = x_train['article_source'].tolist()\n",
        "    \n",
        "    test_art_list = x_test['article'].tolist()\n",
        "    test_clm_list = x_test['claim_text'].tolist()\n",
        "    test_clm_src_list = x_test['claim_source'].tolist()\n",
        "    test_art_src_list = x_test['article_source'].tolist()\n",
        "\n",
        "    # Text to Sequence conversion\n",
        "    t = Tokenizer()\n",
        "    t.fit_on_texts(clm_list+art_list+clm_src_list+art_src_list)\n",
        "    t.num_words=NUM_WORDS\n",
        "    encoded_claim = t.texts_to_sequences(clm_list) # claim\n",
        "    encoded_art = t.texts_to_sequences(art_list) # article\n",
        "    encoded_claim_src = t.texts_to_sequences(clm_src_list) # claim source\n",
        "    encoded_art_src = t.texts_to_sequences(art_src_list) # article source\n",
        "    \n",
        "    encoded_claim_test = t.texts_to_sequences(test_clm_list)\n",
        "    encoded_art_test = t.texts_to_sequences(test_art_list)\n",
        "    encoded_claim_src_test = t.texts_to_sequences(test_clm_src_list)\n",
        "    encoded_art_src_test = t.texts_to_sequences(test_art_src_list)\n",
        "    \n",
        "    word_to_id = t.word_index\n",
        "\n",
        "    # Add a padding of 150 to article and 50 to claim. Padding of 8 given to article source.\n",
        "    # This is done for the training data.\n",
        "    x_train_pad_cl = pad_sequences(encoded_claim, maxlen=50, padding='post') # claim padding\n",
        "    x_train_pad = pad_sequences(encoded_art, maxlen=max_len, padding='post') # article padding\n",
        "    x_train_pad_cls = pad_sequences(encoded_claim_src, maxlen=4, padding='post') # claim source padding\n",
        "    x_train_pad_s = pad_sequences(encoded_art_src, maxlen=4, padding='post') # article source padding\n",
        "    \n",
        "    # Test padding\n",
        "    x_test_pad_cl = pad_sequences(encoded_claim_test, maxlen=50, padding='post')\n",
        "    x_test_pad = pad_sequences(encoded_art_test, maxlen=max_len, padding='post')\n",
        "    x_test_pad_cls= pad_sequences(encoded_claim_src_test, maxlen=4, padding='post')\n",
        "    x_test_pad_s = pad_sequences(encoded_art_src_test, maxlen=4, padding='post')\n",
        "    # Covert training data to a Numpy array\n",
        "    x_train_pad_np_cl = np.array(x_train_pad_cl, dtype=np.float32) # claim numpy\n",
        "    x_train_pad_np = np.array(x_train_pad, dtype=np.float32) # article numpy\n",
        "    x_train_pad_np_cls = np.array(x_train_pad_cls, dtype=np.float32) # claim source numpy\n",
        "    x_train_pad_np_s = np.array(x_train_pad_s, dtype=np.float32) # article source numpy\n",
        "    \n",
        "    # Test data numpy\n",
        "    x_test_pad_np_cl = np.array(x_test_pad_cl, dtype=np.float32)\n",
        "    x_test_pad_np = np.array(x_test_pad, dtype=np.float32)\n",
        "    x_test_pad_np_cls = np.array(x_test_pad_cls, dtype=np.float32)\n",
        "    x_test_pad_np_s = np.array(x_test_pad_s, dtype=np.float32)\n",
        "    \n",
        "    y_train_np = np.array(y_train, dtype=np.float32)\n",
        "    y_test_np = np.array(y_test, dtype=np.float32)\n",
        "    # Convert the training data to a Tensor Variable to be used by the Hybrid model.\n",
        "    train_data = data_utils.TensorDataset(torch.from_numpy(x_train_pad_np_cl).type(torch.LongTensor),\n",
        "                                          torch.from_numpy(x_train_pad_np).type(torch.LongTensor),\n",
        "                                          torch.from_numpy(x_train_pad_np_cls).type(torch.LongTensor),\n",
        "                                          torch.from_numpy(x_train_pad_np_s).type(torch.LongTensor),\n",
        "                                          torch.from_numpy(y_train_np).type(torch.DoubleTensor))\n",
        "    train_loader = data_utils.DataLoader(train_data,batch_size=batch_size,drop_last=True)\n",
        "    return train_loader, x_test_pad_np_cl, x_test_pad_np,x_test_pad_np_cls, x_test_pad_np_s, y_test_np, word_to_id, x_test, x_train"
      ],
      "execution_count": 0,
      "outputs": []
    },
    {
      "cell_type": "code",
      "metadata": {
        "id": "mJ8fHDT2piV3",
        "colab_type": "code",
        "colab": {}
      },
      "source": [
        "# Get the embedding matrix using Glove. \n",
        "vocab,word2idx = None,{}\n",
        "\n",
        "def load_glove_embeddings(path, word2idx, embedding_dim):\n",
        "    \"\"\"Loading the glove embeddings\"\"\"\n",
        "    vocab_size = len(word2idx) + 1\n",
        "    with open(path) as f:\n",
        "        embeddings = np.zeros((vocab_size, embedding_dim))\n",
        "        for line in f.readlines():\n",
        "            values = line.split()\n",
        "            word = values[0]\n",
        "            index = word2idx.get(word)\n",
        "            if index:\n",
        "                vector = np.array(values[1:], dtype='float32')\n",
        "                if vector.shape[-1] != embedding_dim:\n",
        "                    raise Exception('Dimension not matching.')\n",
        "                embeddings[index] = vector\n",
        "        return torch.from_numpy(embeddings).float()"
      ],
      "execution_count": 0,
      "outputs": []
    },
    {
      "cell_type": "code",
      "metadata": {
        "id": "Nxpfhq33qJOR",
        "colab_type": "code",
        "outputId": "4e9fb9af-a4a2-4a94-cd24-30e03fd5360e",
        "colab": {
          "base_uri": "https://localhost:8080/",
          "height": 71
        }
      },
      "source": [
        "# Method to read and store the contents of the uploaded json files.\n",
        "def json_to_dict(json_set):\n",
        "    for k,v in json_set.items():\n",
        "        if v == 'False':\n",
        "            json_set[k] = False\n",
        "        elif v == 'True':\n",
        "            json_set[k] = True\n",
        "        else:\n",
        "            json_set[k] = v\n",
        "    return json_set\n",
        "\n",
        "  \n",
        "\"\"\"\n",
        "with open('config.json', 'r') as f:\n",
        "    params_set = json.load(f)\n",
        "\n",
        "with open('model_params.json', 'r') as f:\n",
        "    model_params = json.load(f)\n",
        "\"\"\"\n",
        "\n",
        "params_set = {\n",
        "\t\n",
        "\t\"epochs\":2,\n",
        "\t\"use_regularization\":True,\n",
        "\t\"C\":0.03,\n",
        "\t\"clip\":True,\n",
        "\t\"use_embeddings\":True,\n",
        "\t\"attention_hops\":10\n",
        "\n",
        "}\n",
        "model_params = {\n",
        "\n",
        "\t\"batch_size\":512,\n",
        "\t\"vocab_size\":20000,\n",
        "\t\"timesteps\":100,\n",
        "\t\"lstm_hidden_dimension\":50,\n",
        "\t\"d_a\":100\n",
        "\n",
        "}\n",
        "print(\"Using settings:\",params_set)\n",
        "print(\"Using model settings\",model_params)"
      ],
      "execution_count": 11,
      "outputs": [
        {
          "output_type": "stream",
          "text": [
            "Using settings: {'epochs': 2, 'use_regularization': True, 'C': 0.03, 'clip': True, 'use_embeddings': True, 'attention_hops': 10}\n",
            "Using model settings {'batch_size': 512, 'vocab_size': 20000, 'timesteps': 100, 'lstm_hidden_dimension': 50, 'd_a': 100}\n"
          ],
          "name": "stdout"
        }
      ]
    },
    {
      "cell_type": "code",
      "metadata": {
        "id": "oyvbeDI8qtmV",
        "colab_type": "code",
        "colab": {}
      },
      "source": [
        "#Creates and HTML file which show the attention weights visulaization on the article. This code taken from: https://github.com/kaushalshetty/Structured-Self-Attention/blob/master\n",
        "\n",
        "def createHTML(texts, weights, fileName):\n",
        "    \"\"\"\n",
        "    Creates a html file with text heat.\n",
        "\tweights: attention weights for visualizing\n",
        "\ttexts: text on which attention weights are to be visualized\n",
        "    \"\"\"\n",
        "    fileName = \"visualization/\"+fileName\n",
        "    fOut = open(fileName, \"w\", encoding=\"utf-8\")\n",
        "    part1 = \"\"\"\n",
        "    <html lang=\"en\">\n",
        "    <head>\n",
        "    <meta http-equiv=\"content-type\" content=\"text/html; charset=utf-8\">\n",
        "    <style>\n",
        "    body {\n",
        "    font-family: Sans-Serif;\n",
        "    }\n",
        "    </style>\n",
        "    </head>\n",
        "    <body>\n",
        "    <h3>\n",
        "    Heatmaps\n",
        "    </h3>\n",
        "    </body>\n",
        "    <script>\n",
        "    \"\"\"\n",
        "    part2 = \"\"\"\n",
        "    var color = \"255,0,0\";\n",
        "    var ngram_length = 3;\n",
        "    var half_ngram = 1;\n",
        "    for (var k=0; k < any_text.length; k++) {\n",
        "    var tokens = any_text[k].split(\" \");\n",
        "    var intensity = new Array(tokens.length);\n",
        "    var max_intensity = Number.MIN_SAFE_INTEGER;\n",
        "    var min_intensity = Number.MAX_SAFE_INTEGER;\n",
        "    for (var i = 0; i < intensity.length; i++) {\n",
        "    intensity[i] = 0.0;\n",
        "    for (var j = -half_ngram; j < ngram_length-half_ngram; j++) {\n",
        "    if (i+j < intensity.length && i+j > -1) {\n",
        "    intensity[i] += trigram_weights[k][i + j];\n",
        "    }\n",
        "    }\n",
        "    if (i == 0 || i == intensity.length-1) {\n",
        "    intensity[i] /= 2.0;\n",
        "    } else {\n",
        "    intensity[i] /= 3.0;\n",
        "    }\n",
        "    if (intensity[i] > max_intensity) {\n",
        "    max_intensity = intensity[i];\n",
        "    }\n",
        "    if (intensity[i] < min_intensity) {\n",
        "    min_intensity = intensity[i];\n",
        "    }\n",
        "    }\n",
        "    var denominator = max_intensity - min_intensity;\n",
        "    for (var i = 0; i < intensity.length; i++) {\n",
        "    intensity[i] = (intensity[i] - min_intensity) / denominator;\n",
        "    }\n",
        "    if (k%2 == 0) {\n",
        "    var heat_text = \"<p><br><b>Example:</b><br>\";\n",
        "    } else {\n",
        "    var heat_text = \"<b>Example:</b><br>\";\n",
        "    }\n",
        "    var space = \"\";\n",
        "    for (var i = 0; i < tokens.length; i++) {\n",
        "    heat_text += \"<span style='background-color:rgba(\" + color + \",\" + intensity[i] + \")'>\" + space + tokens[i] + \"</span>\";\n",
        "    if (space == \"\") {\n",
        "    space = \" \";\n",
        "    }\n",
        "    }\n",
        "    //heat_text += \"<p>\";\n",
        "    document.body.innerHTML += heat_text;\n",
        "    }\n",
        "    </script>\n",
        "    </html>\"\"\"\n",
        "    putQuote = lambda x: \"\\\"%s\\\"\"%x\n",
        "    textsString = \"var any_text = [%s];\\n\"%(\",\".join(map(putQuote, texts)))\n",
        "    weightsString = \"var trigram_weights = [%s];\\n\"%(\",\".join(map(str,weights)))\n",
        "    fOut.write(part1)\n",
        "    fOut.write(textsString)\n",
        "    fOut.write(weightsString)\n",
        "    fOut.write(part2)\n",
        "    fOut.close()\n",
        "  \n",
        "    return"
      ],
      "execution_count": 0,
      "outputs": []
    },
    {
      "cell_type": "code",
      "metadata": {
        "id": "rudpdy2dq2g0",
        "colab_type": "code",
        "colab": {}
      },
      "source": [
        "# Create a new directory called visualization.\n",
        "!mkdir visualization"
      ],
      "execution_count": 0,
      "outputs": []
    },
    {
      "cell_type": "code",
      "metadata": {
        "id": "GGra6Syipp3w",
        "colab_type": "code",
        "outputId": "4114c146-f5a2-41d1-8f6d-0403d5593da0",
        "colab": {
          "base_uri": "https://localhost:8080/",
          "height": 34
        }
      },
      "source": [
        "# Call the method to load the Snopes dataset and embedding matrix\n",
        "MAXLENGTH = 150\n",
        "train_loader,x_test_pad_cl,x_test_pad,x_test_pad_cls,x_test_pad_s,y_test,word_to_id,x_test_or,x_train_or = load_data_set(0,MAXLENGTH,\n",
        "                                                                                                                         model_params[\"vocab_size\"],\n",
        "                                                                                                                         model_params['batch_size']) #loading snopes dataset  \n",
        "\n",
        "embeddings = load_glove_embeddings(\"glove.6B.50d.txt\",word_to_id,50)"
      ],
      "execution_count": 14,
      "outputs": [
        {
          "output_type": "stream",
          "text": [
            "There are 159 total unique rows in the test set and 138 unique claims\n"
          ],
          "name": "stdout"
        }
      ]
    },
    {
      "cell_type": "markdown",
      "metadata": {
        "id": "77rDYtM2qbmW",
        "colab_type": "text"
      },
      "source": [
        "## Structured Self Attention Model Full"
      ]
    },
    {
      "cell_type": "code",
      "metadata": {
        "id": "25yAkbH-qTrx",
        "colab_type": "code",
        "colab": {}
      },
      "source": [
        "# Structured Self Attention class. This class reprsents the Hybrid model. Most of this clas is taken from: https://github.com/kaushalshetty/Structured-Self-Attention/blob/master\n",
        " \n",
        "class StructuredSelfAttention(torch.nn.Module):\n",
        "    \"\"\"\n",
        "    The class is an implementation of the paper A Structured Self-Attentive Sentence Embedding including regularization\n",
        "    and without pruning. Slight modifications have been done for speedup\n",
        "    \"\"\"\n",
        "    def __init__(self,batch_size,lstm_hid_dim,d_a,r,max_len,emb_dim=100,vocab_size=None,use_pretrained_embeddings = False,embeddings=None,type= 0,n_classes = 1):\n",
        "        \"\"\"\n",
        "        Initializes parameters suggested in paper\n",
        " \n",
        "        Args:\n",
        "            batch_size  : {int} batch_size used for training\n",
        "            lstm_hid_dim: {int} hidden dimension for lstm\n",
        "            d_a         : {int} hidden dimension for the dense layer\n",
        "            r           : {int} attention-hops or attention heads\n",
        "            max_len     : {int} number of lstm timesteps\n",
        "            emb_dim     : {int} embeddings dimension\n",
        "            vocab_size  : {int} size of the vocabulary\n",
        "            use_pretrained_embeddings: {bool} use or train your own embeddings\n",
        "            embeddings  : {torch.FloatTensor} loaded pretrained embeddings\n",
        "            type        : [0,1] 0-->binary_classification 1-->multiclass classification\n",
        "            n_classes   : {int} number of classes\n",
        " \n",
        "        Returns:\n",
        "            self\n",
        " \n",
        "        Raises:\n",
        "            Exception\n",
        "        \"\"\"\n",
        "        super(StructuredSelfAttention,self).__init__()\n",
        "         # Model layers initialization\n",
        "        self.embeddings,emb_dim = self._load_embeddings(use_pretrained_embeddings,embeddings,vocab_size,emb_dim)\n",
        "        self.lstm = torch.nn.LSTM(emb_dim,lstm_hid_dim,1,batch_first=True)\n",
        "        self.linear_first = torch.nn.Linear(lstm_hid_dim,d_a)\n",
        "        self.linear_first.bias.data.fill_(0)\n",
        "        self.linear_second = torch.nn.Linear(d_a,r)\n",
        "        self.linear_second.bias.data.fill_(0)\n",
        "        self.n_classes = n_classes\n",
        "        \n",
        "        self.embeddings2,emb_dim = self._load_embeddings(use_pretrained_embeddings,embeddings,vocab_size,emb_dim)\n",
        "        self.lstm2 = torch.nn.LSTM(emb_dim,lstm_hid_dim,1,batch_first=True)\n",
        "        self.linear_first2 = torch.nn.Linear(lstm_hid_dim,d_a)\n",
        "        self.linear_first2.bias.data.fill_(0)\n",
        "        self.linear_second2 = torch.nn.Linear(d_a,r)\n",
        "        self.linear_second2.bias.data.fill_(0)\n",
        "        \n",
        "        self.embeddings3,emb_dim = self._load_embeddings(use_pretrained_embeddings,embeddings,vocab_size,emb_dim)\n",
        "        self.embeddings4,emb_dim = self._load_embeddings(use_pretrained_embeddings,embeddings,vocab_size,emb_dim)\n",
        "        \n",
        "        self.linear_penul = torch.nn.Linear(3*lstm_hid_dim,8)\n",
        "        self.linear_final = torch.nn.Linear(8,self.n_classes)\n",
        "        self.batch_size = batch_size       \n",
        "        self.max_len = max_len\n",
        "        self.lstm_hid_dim = lstm_hid_dim\n",
        "        self.hidden_state = self.init_hidden()\n",
        "        self.r = r\n",
        "        self.type = type\n",
        "                 \n",
        "    def _load_embeddings(self,use_pretrained_embeddings,embeddings,vocab_size,emb_dim):\n",
        "        \"\"\"Load the embeddings based on flag\"\"\"\n",
        "        if use_pretrained_embeddings is True and embeddings is None:\n",
        "            raise Exception(\"Send a pretrained word embedding as an argument\")\n",
        "        \n",
        "        if not use_pretrained_embeddings and vocab_size is None:\n",
        "            raise Exception(\"Vocab size cannot be empty\")\n",
        "\n",
        "        if not use_pretrained_embeddings:\n",
        "            word_embeddings = torch.nn.Embedding(vocab_size,emb_dim,padding_idx=0)\n",
        "            \n",
        "        elif use_pretrained_embeddings:\n",
        "            word_embeddings = torch.nn.Embedding(embeddings.size(0), embeddings.size(1))\n",
        "            word_embeddings.weight = torch.nn.Parameter(embeddings)\n",
        "            emb_dim = embeddings.size(1)\n",
        "            \n",
        "        return word_embeddings,emb_dim\n",
        "       \n",
        "        \n",
        "    def softmax(self,input, axis=1):\n",
        "        \"\"\"\n",
        "        Softmax applied to axis=n\n",
        " \n",
        "        Args:\n",
        "           input: {Tensor,Variable} input on which softmax is to be applied\n",
        "           axis : {int} axis on which softmax is to be applied\n",
        " \n",
        "        Returns:\n",
        "            softmaxed tensors\n",
        " \n",
        "       \n",
        "        \"\"\"\n",
        "        input_size = input.size()\n",
        "        trans_input = input.transpose(axis, len(input_size)-1)\n",
        "        trans_size = trans_input.size()\n",
        "        input_2d = trans_input.contiguous().view(-1, trans_size[-1])\n",
        "        soft_max_2d = F.softmax(input_2d)\n",
        "        soft_max_nd = soft_max_2d.view(*trans_size)\n",
        "        return soft_max_nd.transpose(axis, len(input_size)-1)\n",
        "       \n",
        "        \n",
        "    def init_hidden(self):\n",
        "        return (Variable(torch.zeros(1,self.batch_size,self.lstm_hid_dim)),Variable(torch.zeros(1,self.batch_size,self.lstm_hid_dim)))\n",
        "       \n",
        "        \n",
        "    def forward(self,x,y,xs,ys):\n",
        "        embeddings = self.embeddings(x) # claim embedding\n",
        "        embeddings_part_y = self.embeddings(y[:,:100]) # article embedding taking the first 100\n",
        "        main_embedding  = torch.cat((embeddings, embeddings_part_y), 1) # concatination of the two\n",
        "        # Bi-LSTM layer\n",
        "        outputs, self.hidden_state = self.lstm(main_embedding.view(self.batch_size,self.max_len,-1),self.hidden_state)\n",
        "        # Self-Attention mechanism \n",
        "        x = torch.tanh(self.linear_first(outputs))       \n",
        "        x = self.linear_second(x)       \n",
        "        x = self.softmax(x,1)       \n",
        "        attention = x.transpose(1,2)  \n",
        "        sentence_embeddings = attention@outputs\n",
        "        # Same processed followed for article only input\n",
        "        embeddings2 = self.embeddings2(y)    \n",
        "        outputs2, self.hidden_state2 = self.lstm2(embeddings2.view(self.batch_size,self.max_len,-1),self.hidden_state)       \n",
        "        x2 = torch.tanh(self.linear_first2(outputs2))       \n",
        "        x2 = self.linear_second2(x2)       \n",
        "        x2 = self.softmax(x2,1)       \n",
        "        attention2 = x2.transpose(1,2)       \n",
        "        sentence_embeddings2 = attention2@outputs2\n",
        "        # Element-wise multiplication of the two outputs\n",
        "        ele_mul = sentence_embeddings * sentence_embeddings2\n",
        "        # Average of the output\n",
        "        avg_sentence_embeddings = torch.sum(ele_mul,1)/self.r\n",
        "        # Claim and article source embedding. \n",
        "        embeddings3 = self.embeddings3(xs)\n",
        "        embeddings4 = self.embeddings4(ys) \n",
        "        # Average of these embeddings\n",
        "        avg_csource_embeddings = torch.sum(embeddings3,1)/self.r\n",
        "        avg_asource_embeddings = torch.sum(embeddings4,1)/self.r\n",
        "        # Combine with the average of the Sef-attention outputs.\n",
        "        comb_avg = torch.cat((avg_sentence_embeddings, avg_csource_embeddings, avg_asource_embeddings), 1)\n",
        "        \n",
        "        dense1 = self.linear_penul(comb_avg) \n",
        "        #output = torch.sigmoid(self.linear_final(avg_sentence_embeddings))\n",
        "        output = torch.sigmoid(self.linear_final(dense1))\n",
        "        return output,attention2\n",
        "        \n",
        "    #Regularization\n",
        "    def l2_matrix_norm(self,m):\n",
        "        \"\"\"\n",
        "        Frobenius norm calculation\n",
        " \n",
        "        Args:\n",
        "           m: {Variable} ||AAT - I||\n",
        " \n",
        "        Returns:\n",
        "            regularized value\n",
        " \n",
        "       \n",
        "        \"\"\"\n",
        "        return torch.sum(torch.sum(torch.sum(m**2,1),1)**0.5).type(torch.DoubleTensor)"
      ],
      "execution_count": 0,
      "outputs": []
    },
    {
      "cell_type": "code",
      "metadata": {
        "id": "nkoAg4Pnqib4",
        "colab_type": "code",
        "colab": {}
      },
      "source": [
        "# Training function that applies the penalization. Most of this code is taken from: https://github.com/kaushalshetty/Structured-Self-Attention/blob/master\n",
        " \n",
        "def train(attention_model,train_loader,criterion,optimizer,epochs = 5,use_regularization = False,C=0,clip=False):\n",
        "    \"\"\"\n",
        "        Training code\n",
        " \n",
        "        Args:\n",
        "            attention_model : {object} model\n",
        "            train_loader    : {DataLoader} training data loaded into a dataloader\n",
        "            optimizer       :  optimizer\n",
        "            criterion       :  loss function. Must be BCELoss for binary_classification and NLLLoss for multiclass\n",
        "            epochs          : {int} number of epochs\n",
        "            use_regularizer : {bool} use penalization or not\n",
        "            C               : {int} penalization coeff\n",
        "            clip            : {bool} use gradient clipping or not\n",
        "       \n",
        "        Returns:\n",
        "            accuracy and losses of the model\n",
        "      \n",
        "        \"\"\"\n",
        "    losses = []\n",
        "    accuracy = []\n",
        "    for i in range(epochs):\n",
        "        print(\"Running EPOCH\",i+1)\n",
        "        total_loss = 0\n",
        "        n_batches = 0\n",
        "        correct = 0\n",
        "        \n",
        "        for batch_idx,train in enumerate(train_loader):\n",
        "            attention_model.hidden_state = attention_model.init_hidden()\n",
        "            x,x2,xs,x2s,y = Variable(train[0]),Variable(train[1]),Variable(train[2]),Variable(train[3]),Variable(train[4])\n",
        "            y_pred,att = attention_model(x,x2,xs,x2s)\n",
        "            \n",
        "            #penalization AAT - I\n",
        "            if use_regularization:\n",
        "                attT = att.transpose(1,2)\n",
        "                identity = torch.eye(att.size(1))\n",
        "                identity = Variable(identity.unsqueeze(0).expand(train_loader.batch_size,att.size(1),att.size(1)))\n",
        "                penal = attention_model.l2_matrix_norm(att@attT - identity)\n",
        "            \n",
        "            if not bool(attention_model.type) :\n",
        "                #binary classification\n",
        "                #Adding a very small value to prevent BCELoss from outputting NaN's\n",
        "                correct+=torch.eq(torch.round(y_pred.type(torch.DoubleTensor).squeeze(1)),y).data.sum()\n",
        "                if use_regularization:\n",
        "                    try:\n",
        "                        loss = criterion(y_pred.type(torch.DoubleTensor).squeeze(1)+1e-8,y) + C * penal/train_loader.batch_size\n",
        "                        \n",
        "                    except RuntimeError:\n",
        "                        raise Exception(\"BCELoss gets nan values on regularization. Either remove regularization or add very small values\")\n",
        "                else:\n",
        "                    loss = criterion(y_pred.type(torch.DoubleTensor).squeeze(1),y)\n",
        "\n",
        "            total_loss+=loss.data\n",
        "            optimizer.zero_grad()\n",
        "            loss.backward()\n",
        "            \n",
        "            #gradient clipping\n",
        "            if clip:\n",
        "                torch.nn.utils.clip_grad_norm_(attention_model.parameters(),0.5)\n",
        "            optimizer.step()\n",
        "            n_batches+=1\n",
        "        \n",
        "        print(\"avg_loss is\",total_loss/n_batches)\n",
        "        corr_nump = correct.data.cpu().numpy().astype(int)\n",
        "        acc = corr_nump/float(n_batches*train_loader.batch_size)\n",
        "        print(\"Accuracy of the model\",acc)\n",
        "        losses.append(total_loss/n_batches)\n",
        "        accuracy.append(acc)\n",
        "    return losses,accuracy\n",
        "\n",
        "# Evaluate the test result and return the accuracy and the predicted values\n",
        "def evaluate(attention_model,x_test_cl,x_test,x_test_cls,x_test_s,y_test):\n",
        "    \n",
        "    attention_model.batch_size = x_test.shape[0]\n",
        "    attention_model.hidden_state = attention_model.init_hidden()\n",
        "    \n",
        "    x_test_var = Variable(torch.from_numpy(x_test).type(torch.LongTensor)) # article var\n",
        "    x_test_var_cl = Variable(torch.from_numpy(x_test_cl).type(torch.LongTensor)) # claim var\n",
        "    x_test_var_s = Variable(torch.from_numpy(x_test_s).type(torch.LongTensor)) # article source var\n",
        "    x_test_var_cls = Variable(torch.from_numpy(x_test_cls).type(torch.LongTensor)) # claim source var\n",
        "    y_test_pred,_ = attention_model(x_test_var_cl,x_test_var,x_test_var_cls,x_test_var_s)\n",
        "\n",
        "    y_preds = torch.round(y_test_pred.type(torch.DoubleTensor).squeeze(1))\n",
        "    y_test_var = Variable(torch.from_numpy(y_test).type(torch.DoubleTensor))\n",
        "    sum = torch.eq(y_preds,y_test_var).data.sum()\n",
        "    total = x_test_var.size(0)\n",
        "    acc = sum.data.cpu().numpy().astype(int)/float(total)\n",
        "    return acc, y_preds\n",
        "\n",
        "def get_activation_wts(attention_model,x,y,xs,ys):\n",
        "    \"\"\"\n",
        "        Get r attention heads\n",
        " \n",
        "        Args:\n",
        "            attention_model : {object} model\n",
        "            x               : {torch.Variable} input whose weights we want (claim)\n",
        "            y               : {torch.Variable} the second input (article)\n",
        "       \n",
        "        Returns:\n",
        "            r different attention weights\n",
        " \n",
        "      \n",
        "    \"\"\"\n",
        "    attention_model.batch_size = x.size(0)\n",
        "    attention_model.hidden_state = attention_model.init_hidden()\n",
        "    _,wts = attention_model(x,y,xs,ys)\n",
        "    return wts"
      ],
      "execution_count": 0,
      "outputs": []
    },
    {
      "cell_type": "markdown",
      "metadata": {
        "id": "Alp7tm7wq9C-",
        "colab_type": "text"
      },
      "source": [
        "### Model Execution"
      ]
    },
    {
      "cell_type": "code",
      "metadata": {
        "id": "UrlmuBXVqnIZ",
        "colab_type": "code",
        "colab": {}
      },
      "source": [
        "#Method to process the article and the attention weights then create the HTML file.\n",
        "def visualize_attention(wts,x_test_pad,word_to_id,filename):\n",
        "    wts_add = torch.sum(wts,1)\n",
        "    wts_add_np = wts_add.data.numpy()\n",
        "    wts_add_list = wts_add_np.tolist()\n",
        "    id_to_word = {v:k for k,v in word_to_id.items()}\n",
        "    text= []\n",
        "    for test in x_test_pad:\n",
        "        line=list()\n",
        "        for i in test:\n",
        "          if i == 0.0:\n",
        "            word = '<UNK>'\n",
        "          else:\n",
        "            word = id_to_word.get(i)\n",
        "          line.append(word)\n",
        "        text.append(\" \".join(line))\n",
        "\n",
        "    createHTML(text, wts_add_list, filename)\n",
        "    print(\"Attention visualization created for {} samples\".format(len(x_test_pad)))\n",
        "    return\n",
        "\n",
        "# Method to perform the classification using Binary Cross Entropy Loss and RMSProp optimizer\n",
        "def binary_classfication(attention_model,train_loader,epochs=5,use_regularization=True,C=1.0,clip=True):\n",
        "    loss = torch.nn.BCELoss()\n",
        "    optimizer = torch.optim.RMSprop(attention_model.parameters())\n",
        "    loss,accuracy=train(attention_model,train_loader,loss,optimizer,epochs,use_regularization,C,clip)\n",
        "    return loss, accuracy"
      ],
      "execution_count": 0,
      "outputs": []
    },
    {
      "cell_type": "code",
      "metadata": {
        "id": "3fxxDaonrBcW",
        "colab_type": "code",
        "outputId": "b5c74c03-7532-4b58-9092-b900d410a56e",
        "colab": {
          "base_uri": "https://localhost:8080/",
          "height": 207
        }
      },
      "source": [
        "# Model execution\n",
        "attention_model = StructuredSelfAttention(batch_size=train_loader.batch_size,lstm_hid_dim=model_params['lstm_hidden_dimension'],\n",
        "                                          d_a = model_params[\"d_a\"],r=params_set[\"attention_hops\"],vocab_size=len(word_to_id),\n",
        "                                          max_len=MAXLENGTH,type=0,n_classes=1,use_pretrained_embeddings=True,embeddings=embeddings)\n",
        "\n",
        "loss, acc = binary_classfication(attention_model,train_loader=train_loader,epochs=3,use_regularization=False,\n",
        "                                 C=params_set[\"C\"],clip=params_set[\"clip\"])"
      ],
      "execution_count": 19,
      "outputs": [
        {
          "output_type": "stream",
          "text": [
            "Running EPOCH 1\n"
          ],
          "name": "stdout"
        },
        {
          "output_type": "stream",
          "text": [
            "/usr/local/lib/python3.6/dist-packages/ipykernel_launcher.py:95: UserWarning: Implicit dimension choice for softmax has been deprecated. Change the call to include dim=X as an argument.\n"
          ],
          "name": "stderr"
        },
        {
          "output_type": "stream",
          "text": [
            "avg_loss is tensor(0.4913, dtype=torch.float64)\n",
            "Accuracy of the model 0.7500424592391305\n",
            "Running EPOCH 2\n",
            "avg_loss is tensor(0.0968, dtype=torch.float64)\n",
            "Accuracy of the model 0.9661175271739131\n",
            "Running EPOCH 3\n",
            "avg_loss is tensor(0.0247, dtype=torch.float64)\n",
            "Accuracy of the model 0.9933763586956522\n"
          ],
          "name": "stdout"
        }
      ]
    },
    {
      "cell_type": "code",
      "metadata": {
        "id": "FXfZWZbArhhD",
        "colab_type": "code",
        "outputId": "06b25724-98a6-4b80-d1d8-bcad5b5788cb",
        "colab": {
          "base_uri": "https://localhost:8080/",
          "height": 71
        }
      },
      "source": [
        "# Accuracy of the test data\n",
        "acc, pred = evaluate(attention_model, x_test_pad_cl, x_test_pad, x_test_pad_cls, x_test_pad_s, y_test)\n",
        "print(acc)"
      ],
      "execution_count": 20,
      "outputs": [
        {
          "output_type": "stream",
          "text": [
            "/usr/local/lib/python3.6/dist-packages/ipykernel_launcher.py:95: UserWarning: Implicit dimension choice for softmax has been deprecated. Change the call to include dim=X as an argument.\n"
          ],
          "name": "stderr"
        },
        {
          "output_type": "stream",
          "text": [
            "0.9742895805142084\n"
          ],
          "name": "stdout"
        }
      ]
    },
    {
      "cell_type": "markdown",
      "metadata": {
        "id": "S6voYfvYrqNT",
        "colab_type": "text"
      },
      "source": [
        "### Metric evaluation methods"
      ]
    },
    {
      "cell_type": "code",
      "metadata": {
        "id": "F-GVkUJBrlqo",
        "colab_type": "code",
        "colab": {}
      },
      "source": [
        "# Method to plot the confusion matrix. Code taken from https://scikit-learn.org/stable/auto_examples/model_selection/plot_confusion_matrix.html\n",
        "def plot_confusion_matrix(y_true, y_pred, classes,\n",
        "                          normalize=False,\n",
        "                          title=None,\n",
        "                          cmap=plt.cm.Greens):\n",
        "    \"\"\"\n",
        "    This function prints and plots the confusion matrix.\n",
        "    Normalization can be applied by setting `normalize=True`.\n",
        "    \"\"\"\n",
        "    if not title:\n",
        "        if normalize:\n",
        "            title = 'Normalized confusion matrix'\n",
        "        else:\n",
        "            title = 'Confusion matrix, without normalization'\n",
        "\n",
        "    # Compute confusion matrix\n",
        "    cm = confusion_matrix(y_true, y_pred)\n",
        "    if normalize:\n",
        "        cm = cm.astype('float') / cm.sum(axis=1)[:, np.newaxis]\n",
        "        print(\"Normalized confusion matrix\")\n",
        "    else:\n",
        "        print('Confusion matrix, without normalization')\n",
        "\n",
        "    print(cm)\n",
        "\n",
        "    fig, ax = plt.subplots()\n",
        "    im = ax.imshow(cm, interpolation='nearest', cmap=cmap)\n",
        "    ax.figure.colorbar(im, ax=ax)\n",
        "    # We want to show all ticks...\n",
        "    ax.set(xticks=np.arange(cm.shape[1]),\n",
        "           yticks=np.arange(cm.shape[0]),\n",
        "           # ... and label them with the respective list entries\n",
        "           xticklabels=['False','True'], yticklabels=['False','True'],\n",
        "           title=title,\n",
        "           ylabel='True label',\n",
        "           xlabel='Predicted label')\n",
        "\n",
        "    # Rotate the tick labels and set their alignment.\n",
        "    plt.setp(ax.get_xticklabels(), rotation=45, ha=\"right\",\n",
        "             rotation_mode=\"anchor\")\n",
        "    plt.grid(False)\n",
        "\n",
        "    # Loop over data dimensions and create text annotations.\n",
        "    fmt = '.2f' if normalize else 'd'\n",
        "    thresh = cm.max() / 2.\n",
        "    for i in range(cm.shape[0]):\n",
        "        for j in range(cm.shape[1]):\n",
        "            ax.text(j, i, format(cm[i, j], fmt),\n",
        "                    ha=\"center\", va=\"center\",\n",
        "                    color=\"white\" if cm[i, j] > thresh else \"black\")\n",
        "    fig.tight_layout()\n",
        "    return ax"
      ],
      "execution_count": 0,
      "outputs": []
    },
    {
      "cell_type": "code",
      "metadata": {
        "id": "3lpAO6GUru_F",
        "colab_type": "code",
        "colab": {}
      },
      "source": [
        "# Code taken from Lab5 of TaD by Jeff Dalton. This method returns the accuarcy, precision, recall and F1 measure values for an input.\n",
        "def evaluation_summary(description, predictions, true_labels):\n",
        "  print(\"Evaluation for: \" + description)\n",
        "  precision = precision_score(predictions, true_labels, average='macro')\n",
        "  recall = recall_score(predictions, true_labels, average='macro')\n",
        "  accuracy = accuracy_score(predictions, true_labels)\n",
        "  f1 = fbeta_score(predictions, true_labels, 1, average='macro') #1 means f_1 measure\n",
        "  print(\"Classifier '%s' has Acc=%0.3f P=%0.3f R=%0.3f F1=%0.3f\" % (description,accuracy,precision,recall,f1))\n",
        "  print(classification_report(predictions, true_labels, digits=3))\n",
        "  print('\\nConfusion matrix:\\n',confusion_matrix(true_labels, predictions))\n",
        "  return precision,recall,accuracy,f1 "
      ],
      "execution_count": 0,
      "outputs": []
    },
    {
      "cell_type": "code",
      "metadata": {
        "id": "6YV73roer62a",
        "colab_type": "code",
        "outputId": "85e62edb-1120-47f2-f153-974bd08d9c99",
        "colab": {
          "base_uri": "https://localhost:8080/",
          "height": 696
        }
      },
      "source": [
        "plot_confusion_matrix(y_test,pred.detach().numpy(),[0,1])\n",
        "plot_confusion_matrix(y_test,pred.detach().numpy(),[0,1], normalize=True)"
      ],
      "execution_count": 23,
      "outputs": [
        {
          "output_type": "stream",
          "text": [
            "Confusion matrix, without normalization\n",
            "[[2874   44]\n",
            " [ 108 2886]]\n",
            "Normalized confusion matrix\n",
            "[[0.98492118 0.01507882]\n",
            " [0.03607214 0.96392786]]\n"
          ],
          "name": "stdout"
        },
        {
          "output_type": "execute_result",
          "data": {
            "text/plain": [
              "<matplotlib.axes._subplots.AxesSubplot at 0x7f8981f2b0f0>"
            ]
          },
          "metadata": {
            "tags": []
          },
          "execution_count": 23
        },
        {
          "output_type": "display_data",
          "data": {
            "image/png": "[encoded data removed]",
            "text/plain": [
              "<Figure size 432x288 with 2 Axes>"
            ]
          },
          "metadata": {
            "tags": []
          }
        },
        {
          "output_type": "display_data",
          "data": {
            "image/png": "[encoded data removed]",
            "text/plain": [
              "<Figure size 432x288 with 2 Axes>"
            ]
          },
          "metadata": {
            "tags": []
          }
        }
      ]
    },
    {
      "cell_type": "code",
      "metadata": {
        "id": "MyMVdH2Jr72e",
        "colab_type": "code",
        "outputId": "9a0d1881-e928-4797-f577-52028dda9e51",
        "colab": {
          "base_uri": "https://localhost:8080/",
          "height": 272
        }
      },
      "source": [
        "full_p,full_r,full_a,full_f1 = evaluation_summary(\"Self Attention-Full\", pred.detach().numpy(), y_test)"
      ],
      "execution_count": 24,
      "outputs": [
        {
          "output_type": "stream",
          "text": [
            "Evaluation for: Self Attention-Full\n",
            "Classifier 'Self Attention-Full' has Acc=0.974 P=0.974 R=0.974 F1=0.974\n",
            "              precision    recall  f1-score   support\n",
            "\n",
            "         0.0      0.985     0.964     0.974      2982\n",
            "         1.0      0.964     0.985     0.974      2930\n",
            "\n",
            "    accuracy                          0.974      5912\n",
            "   macro avg      0.974     0.974     0.974      5912\n",
            "weighted avg      0.975     0.974     0.974      5912\n",
            "\n",
            "\n",
            "Confusion matrix:\n",
            " [[2874   44]\n",
            " [ 108 2886]]\n"
          ],
          "name": "stdout"
        }
      ]
    },
    {
      "cell_type": "code",
      "metadata": {
        "id": "LlAxxkt1sFAd",
        "colab_type": "code",
        "outputId": "b41e40ba-230c-42c4-b545-55ef450da74a",
        "colab": {
          "base_uri": "https://localhost:8080/",
          "height": 34
        }
      },
      "source": [
        "# Calculate the AUC value of the result.\n",
        "fpr, tpr, thresholds = roc_curve(y_test, pred.detach().numpy())\n",
        "auc_full = auc(fpr, tpr)\n",
        "print(\"Self Attention-Full AUC-\",auc_full)"
      ],
      "execution_count": 25,
      "outputs": [
        {
          "output_type": "stream",
          "text": [
            "Self Attention-Full AUC- 0.9744245173005367\n"
          ],
          "name": "stdout"
        }
      ]
    },
    {
      "cell_type": "code",
      "metadata": {
        "id": "swn0rIovsKhJ",
        "colab_type": "code",
        "outputId": "a541bb70-2f06-4096-ba23-ecca364d2e6d",
        "colab": {
          "base_uri": "https://localhost:8080/",
          "height": 71
        }
      },
      "source": [
        "# Visualize the attention weights for this model.\n",
        "test_last_idx = 15\n",
        "wts = get_activation_wts(attention_model,Variable(torch.from_numpy(x_test_pad_cl[:test_last_idx]).type(torch.LongTensor)),\n",
        "                            Variable(torch.from_numpy(x_test_pad[:test_last_idx]).type(torch.LongTensor)),\n",
        "                        Variable(torch.from_numpy(x_test_pad_cls[:test_last_idx]).type(torch.LongTensor)),\n",
        "                        Variable(torch.from_numpy(x_test_pad_s[:test_last_idx]).type(torch.LongTensor)))\n",
        "\n",
        "visualize_attention(wts,x_test_pad[:test_last_idx],word_to_id,filename='attention_pol_full.html')"
      ],
      "execution_count": 26,
      "outputs": [
        {
          "output_type": "stream",
          "text": [
            "Attention visualization created for 15 samples\n"
          ],
          "name": "stdout"
        },
        {
          "output_type": "stream",
          "text": [
            "/usr/local/lib/python3.6/dist-packages/ipykernel_launcher.py:95: UserWarning: Implicit dimension choice for softmax has been deprecated. Change the call to include dim=X as an argument.\n"
          ],
          "name": "stderr"
        }
      ]
    },
    {
      "cell_type": "markdown",
      "metadata": {
        "id": "4pL6jocvsYIO",
        "colab_type": "text"
      },
      "source": [
        "##Sub-Model- Self Attention model using only Article and Claim"
      ]
    },
    {
      "cell_type": "code",
      "metadata": {
        "id": "HWVKMKn2saV2",
        "colab_type": "code",
        "colab": {}
      },
      "source": [
        "# Same model but it uses only article and claim as input.\n",
        "class StructuredSelfAttention(torch.nn.Module):\n",
        "    \"\"\"\n",
        "    The class is an implementation of the paper A Structured Self-Attentive Sentence Embedding including regularization\n",
        "    and without pruning. Slight modifications have been done for speedup\n",
        "    \"\"\"\n",
        "    def __init__(self,batch_size,lstm_hid_dim,d_a,r,max_len,emb_dim=100,vocab_size=None,use_pretrained_embeddings = False,embeddings=None,type= 0,n_classes = 1):\n",
        "        \"\"\"\n",
        "        Initializes parameters suggested in paper\n",
        " \n",
        "        Args:\n",
        "            batch_size  : {int} batch_size used for training\n",
        "            lstm_hid_dim: {int} hidden dimension for lstm\n",
        "            d_a         : {int} hidden dimension for the dense layer\n",
        "            r           : {int} attention-hops or attention heads\n",
        "            max_len     : {int} number of lstm timesteps\n",
        "            emb_dim     : {int} embeddings dimension\n",
        "            vocab_size  : {int} size of the vocabulary\n",
        "            use_pretrained_embeddings: {bool} use or train your own embeddings\n",
        "            embeddings  : {torch.FloatTensor} loaded pretrained embeddings\n",
        "            type        : [0,1] 0-->binary_classification 1-->multiclass classification\n",
        "            n_classes   : {int} number of classes\n",
        " \n",
        "        Returns:\n",
        "            self\n",
        " \n",
        "        Raises:\n",
        "            Exception\n",
        "        \"\"\"\n",
        "        super(StructuredSelfAttention,self).__init__()\n",
        "        # Initialization of the required layers\n",
        "        self.embeddings,emb_dim = self._load_embeddings(use_pretrained_embeddings,embeddings,vocab_size,emb_dim)\n",
        "        self.lstm = torch.nn.LSTM(emb_dim,lstm_hid_dim,1,batch_first=True)\n",
        "        self.linear_first = torch.nn.Linear(lstm_hid_dim,d_a)\n",
        "        self.linear_first.bias.data.fill_(0)\n",
        "        self.linear_second = torch.nn.Linear(d_a,r)\n",
        "        self.linear_second.bias.data.fill_(0)\n",
        "        self.n_classes = n_classes\n",
        "        \n",
        "        self.embeddings2,emb_dim = self._load_embeddings(use_pretrained_embeddings,embeddings,vocab_size,emb_dim)\n",
        "        self.lstm2 = torch.nn.LSTM(emb_dim,lstm_hid_dim,1,batch_first=True)\n",
        "        self.linear_first2 = torch.nn.Linear(lstm_hid_dim,d_a)\n",
        "        self.linear_first2.bias.data.fill_(0)\n",
        "        self.linear_second2 = torch.nn.Linear(d_a,r)\n",
        "        self.linear_second2.bias.data.fill_(0)\n",
        "\n",
        "        self.linear_final = torch.nn.Linear(lstm_hid_dim,self.n_classes)\n",
        "        self.batch_size = batch_size       \n",
        "        self.max_len = max_len\n",
        "        self.lstm_hid_dim = lstm_hid_dim\n",
        "        self.hidden_state = self.init_hidden()\n",
        "        self.r = r\n",
        "        self.type = type\n",
        "                 \n",
        "    def _load_embeddings(self,use_pretrained_embeddings,embeddings,vocab_size,emb_dim):\n",
        "        \"\"\"Load the embeddings based on flag\"\"\"\n",
        "        if use_pretrained_embeddings is True and embeddings is None:\n",
        "            raise Exception(\"Send a pretrained word embedding as an argument\")\n",
        "          \n",
        "        if not use_pretrained_embeddings and vocab_size is None:\n",
        "            raise Exception(\"Vocab size cannot be empty\")\n",
        "        \n",
        "        if not use_pretrained_embeddings:\n",
        "            word_embeddings = torch.nn.Embedding(vocab_size,emb_dim,padding_idx=0)\n",
        "            \n",
        "        elif use_pretrained_embeddings:\n",
        "            word_embeddings = torch.nn.Embedding(embeddings.size(0), embeddings.size(1))\n",
        "            word_embeddings.weight = torch.nn.Parameter(embeddings)\n",
        "            emb_dim = embeddings.size(1)\n",
        "            \n",
        "        return word_embeddings,emb_dim\n",
        "       \n",
        "        \n",
        "    def softmax(self,input, axis=1):\n",
        "        \"\"\"\n",
        "        Softmax applied to axis=n\n",
        " \n",
        "        Args:\n",
        "           input: {Tensor,Variable} input on which softmax is to be applied\n",
        "           axis : {int} axis on which softmax is to be applied\n",
        " \n",
        "        Returns:\n",
        "            softmaxed tensors\n",
        " \n",
        "       \n",
        "        \"\"\"\n",
        "        input_size = input.size()\n",
        "        trans_input = input.transpose(axis, len(input_size)-1)\n",
        "        trans_size = trans_input.size()\n",
        "        input_2d = trans_input.contiguous().view(-1, trans_size[-1])\n",
        "        soft_max_2d = F.softmax(input_2d)\n",
        "        soft_max_nd = soft_max_2d.view(*trans_size)\n",
        "        return soft_max_nd.transpose(axis, len(input_size)-1)\n",
        "       \n",
        "        \n",
        "    def init_hidden(self):\n",
        "        return (Variable(torch.zeros(1,self.batch_size,self.lstm_hid_dim)),Variable(torch.zeros(1,self.batch_size,self.lstm_hid_dim)))\n",
        "       \n",
        "        \n",
        "    def forward(self,x,y,xs,ys):\n",
        "        embeddings = self.embeddings(x) # claim embedding\n",
        "        embeddings_part_y = self.embeddings(y[:,:100]) # Article embedding taking the first 100 values\n",
        "        main_embedding  = torch.cat((embeddings, embeddings_part_y), 1) #Combination of the two\n",
        "        # Bi-LSTM layer\n",
        "        outputs, self.hidden_state = self.lstm(main_embedding.view(self.batch_size,self.max_len,-1),self.hidden_state)  \n",
        "        # Self-Attention mechanism    \n",
        "        x = torch.tanh(self.linear_first(outputs))       \n",
        "        x = self.linear_second(x)       \n",
        "        x = self.softmax(x,1)       \n",
        "        attention = x.transpose(1,2)  \n",
        "        sentence_embeddings = attention@outputs\n",
        "\n",
        "        # Same processing followed for article only.\n",
        "        embeddings2 = self.embeddings2(y)    \n",
        "        outputs2, self.hidden_state2 = self.lstm2(embeddings2.view(self.batch_size,self.max_len,-1),self.hidden_state)       \n",
        "        x2 = torch.tanh(self.linear_first2(outputs2))       \n",
        "        x2 = self.linear_second2(x2)       \n",
        "        x2 = self.softmax(x2,1)       \n",
        "        attention2 = x2.transpose(1,2)       \n",
        "        sentence_embeddings2 = attention2@outputs2\n",
        "\n",
        "        # Element-wise multiplication of the two outputs.\n",
        "        ele_mul = sentence_embeddings * sentence_embeddings2\n",
        "        # Average of the output.\n",
        "        avg_sentence_embeddings = torch.sum(ele_mul,1)/self.r\n",
        "        \n",
        "        output = torch.sigmoid(self.linear_final(avg_sentence_embeddings))\n",
        "        return output,attention2\n",
        "        \n",
        "    #Regularization\n",
        "    def l2_matrix_norm(self,m):\n",
        "        \"\"\"\n",
        "        Frobenius norm calculation\n",
        " \n",
        "        Args:\n",
        "           m: {Variable} ||AAT - I||\n",
        " \n",
        "        Returns:\n",
        "            regularized value\n",
        " \n",
        "       \n",
        "        \"\"\"\n",
        "        return torch.sum(torch.sum(torch.sum(m**2,1),1)**0.5).type(torch.DoubleTensor)"
      ],
      "execution_count": 0,
      "outputs": []
    },
    {
      "cell_type": "code",
      "metadata": {
        "id": "np8FA1ZEt39P",
        "colab_type": "code",
        "outputId": "a4e667f5-e9dc-4bb2-c1e6-67c1b399bb3b",
        "colab": {
          "base_uri": "https://localhost:8080/",
          "height": 207
        }
      },
      "source": [
        "# Initialize and Train the model.\n",
        "attention_model2 = StructuredSelfAttention(batch_size=train_loader.batch_size,lstm_hid_dim=model_params['lstm_hidden_dimension'],d_a = model_params[\"d_a\"],r=params_set[\"attention_hops\"],vocab_size=len(word_to_id),max_len=MAXLENGTH,type=0,n_classes=1,use_pretrained_embeddings=True,embeddings=embeddings)\n",
        "\n",
        "loss2, acc2 = binary_classfication(attention_model2,train_loader=train_loader,epochs=3,use_regularization=True,C=params_set[\"C\"],clip=params_set[\"clip\"])\n"
      ],
      "execution_count": 28,
      "outputs": [
        {
          "output_type": "stream",
          "text": [
            "Running EPOCH 1\n"
          ],
          "name": "stdout"
        },
        {
          "output_type": "stream",
          "text": [
            "/usr/local/lib/python3.6/dist-packages/ipykernel_launcher.py:90: UserWarning: Implicit dimension choice for softmax has been deprecated. Change the call to include dim=X as an argument.\n"
          ],
          "name": "stderr"
        },
        {
          "output_type": "stream",
          "text": [
            "avg_loss is tensor(0.6043, dtype=torch.float64)\n",
            "Accuracy of the model 0.7349269701086957\n",
            "Running EPOCH 2\n",
            "avg_loss is tensor(0.2234, dtype=torch.float64)\n",
            "Accuracy of the model 0.9545261548913043\n",
            "Running EPOCH 3\n",
            "avg_loss is tensor(0.1433, dtype=torch.float64)\n",
            "Accuracy of the model 0.9833559782608695\n"
          ],
          "name": "stdout"
        }
      ]
    },
    {
      "cell_type": "code",
      "metadata": {
        "id": "Aq8B_gWGuArH",
        "colab_type": "code",
        "outputId": "347685ce-a327-4ca2-c001-7203c5648c8c",
        "colab": {
          "base_uri": "https://localhost:8080/",
          "height": 71
        }
      },
      "source": [
        "# Accuracy of the test data\n",
        "acc2, pred2 = evaluate(attention_model2, x_test_pad_cl, x_test_pad, x_test_pad_cls, x_test_pad_s, y_test)\n",
        "print(acc2)"
      ],
      "execution_count": 29,
      "outputs": [
        {
          "output_type": "stream",
          "text": [
            "/usr/local/lib/python3.6/dist-packages/ipykernel_launcher.py:90: UserWarning: Implicit dimension choice for softmax has been deprecated. Change the call to include dim=X as an argument.\n"
          ],
          "name": "stderr"
        },
        {
          "output_type": "stream",
          "text": [
            "0.9575439783491204\n"
          ],
          "name": "stdout"
        }
      ]
    },
    {
      "cell_type": "code",
      "metadata": {
        "id": "U4-XA2w3uD8t",
        "colab_type": "code",
        "outputId": "2e850575-fbdf-474c-d6c1-357bb4b0c9ae",
        "colab": {
          "base_uri": "https://localhost:8080/",
          "height": 696
        }
      },
      "source": [
        "plot_confusion_matrix(y_test,pred2.detach().numpy(),[0,1])\n",
        "plot_confusion_matrix(y_test,pred2.detach().numpy(),[0,1], normalize=True)"
      ],
      "execution_count": 30,
      "outputs": [
        {
          "output_type": "stream",
          "text": [
            "Confusion matrix, without normalization\n",
            "[[2794  124]\n",
            " [ 127 2867]]\n",
            "Normalized confusion matrix\n",
            "[[0.95750514 0.04249486]\n",
            " [0.04241817 0.95758183]]\n"
          ],
          "name": "stdout"
        },
        {
          "output_type": "execute_result",
          "data": {
            "text/plain": [
              "<matplotlib.axes._subplots.AxesSubplot at 0x7f8982efe978>"
            ]
          },
          "metadata": {
            "tags": []
          },
          "execution_count": 30
        },
        {
          "output_type": "display_data",
          "data": {
            "image/png": "[encoded data removed]",
            "text/plain": [
              "<Figure size 432x288 with 2 Axes>"
            ]
          },
          "metadata": {
            "tags": []
          }
        },
        {
          "output_type": "display_data",
          "data": {
            "image/png": "[encoded data removed]",
            "text/plain": [
              "<Figure size 432x288 with 2 Axes>"
            ]
          },
          "metadata": {
            "tags": []
          }
        }
      ]
    },
    {
      "cell_type": "code",
      "metadata": {
        "id": "yuZZx5oEuHuj",
        "colab_type": "code",
        "outputId": "6d3f2012-5af9-4f52-b149-87b742fcdb7c",
        "colab": {
          "base_uri": "https://localhost:8080/",
          "height": 272
        }
      },
      "source": [
        "art_cl_p,art_cl_r,art_cl_a,art_cl_f1 = evaluation_summary(\"Self Attention-Article and Claim\", pred2.detach().numpy(), y_test)"
      ],
      "execution_count": 31,
      "outputs": [
        {
          "output_type": "stream",
          "text": [
            "Evaluation for: Self Attention-Article and Claim\n",
            "Classifier 'Self Attention-Article and Claim' has Acc=0.958 P=0.958 R=0.958 F1=0.958\n",
            "              precision    recall  f1-score   support\n",
            "\n",
            "         0.0      0.958     0.957     0.957      2921\n",
            "         1.0      0.958     0.959     0.958      2991\n",
            "\n",
            "    accuracy                          0.958      5912\n",
            "   macro avg      0.958     0.958     0.958      5912\n",
            "weighted avg      0.958     0.958     0.958      5912\n",
            "\n",
            "\n",
            "Confusion matrix:\n",
            " [[2794  124]\n",
            " [ 127 2867]]\n"
          ],
          "name": "stdout"
        }
      ]
    },
    {
      "cell_type": "code",
      "metadata": {
        "id": "FAju_9NLuLYt",
        "colab_type": "code",
        "outputId": "c4f04e81-fa4f-4b61-b3ab-0ff9ab8839f6",
        "colab": {
          "base_uri": "https://localhost:8080/",
          "height": 34
        }
      },
      "source": [
        "fpr, tpr, thresholds = roc_curve(y_test, pred2.detach().numpy())\n",
        "auc_art_cl = auc(fpr, tpr)\n",
        "print(\"Self Attention-Article_claim AUC-\",auc_art_cl)"
      ],
      "execution_count": 32,
      "outputs": [
        {
          "output_type": "stream",
          "text": [
            "Self Attention-Article_claim AUC- 0.957543485417259\n"
          ],
          "name": "stdout"
        }
      ]
    },
    {
      "cell_type": "code",
      "metadata": {
        "id": "ojxxOaxEuOde",
        "colab_type": "code",
        "outputId": "95d4a1c9-e9c3-4eff-d987-edc49ff40e3a",
        "colab": {
          "base_uri": "https://localhost:8080/",
          "height": 88
        }
      },
      "source": [
        "# Visulaisation\n",
        "test_last_idx = 15\n",
        "wts2 = get_activation_wts(attention_model2,Variable(torch.from_numpy(x_test_pad_cl[:test_last_idx]).type(torch.LongTensor)),\n",
        "                             Variable(torch.from_numpy(x_test_pad[:test_last_idx]).type(torch.LongTensor)),\n",
        "                        Variable(torch.from_numpy(x_test_pad_cls[:test_last_idx]).type(torch.LongTensor)),\n",
        "                        Variable(torch.from_numpy(x_test_pad_s[:test_last_idx]).type(torch.LongTensor)))\n",
        "print(wts2.size())\n",
        "visualize_attention(wts2,x_test_pad[:test_last_idx],word_to_id,filename='attention_art_cl.html')"
      ],
      "execution_count": 33,
      "outputs": [
        {
          "output_type": "stream",
          "text": [
            "torch.Size([15, 10, 150])\n",
            "Attention visualization created for 15 samples\n"
          ],
          "name": "stdout"
        },
        {
          "output_type": "stream",
          "text": [
            "/usr/local/lib/python3.6/dist-packages/ipykernel_launcher.py:90: UserWarning: Implicit dimension choice for softmax has been deprecated. Change the call to include dim=X as an argument.\n"
          ],
          "name": "stderr"
        }
      ]
    },
    {
      "cell_type": "markdown",
      "metadata": {
        "id": "kjZHBmdOvA8D",
        "colab_type": "text"
      },
      "source": [
        "## Sub Model- Using only Article"
      ]
    },
    {
      "cell_type": "code",
      "metadata": {
        "id": "JNhLeb5uvCDp",
        "colab_type": "code",
        "colab": {}
      },
      "source": [
        "# Self attention class this time only using the Article.\n",
        "class StructuredSelfAttention(torch.nn.Module):\n",
        "    \"\"\"\n",
        "    The class is an implementation of the paper A Structured Self-Attentive Sentence Embedding including regularization\n",
        "    and without pruning. Slight modifications have been done for speedup\n",
        "    \"\"\"\n",
        "    def __init__(self,batch_size,lstm_hid_dim,d_a,r,max_len,emb_dim=100,vocab_size=None,use_pretrained_embeddings = False,embeddings=None,type= 0,n_classes = 1):\n",
        "        \"\"\"\n",
        "        Initializes parameters suggested in paper\n",
        " \n",
        "        Args:\n",
        "            batch_size  : {int} batch_size used for training\n",
        "            lstm_hid_dim: {int} hidden dimension for lstm\n",
        "            d_a         : {int} hidden dimension for the dense layer\n",
        "            r           : {int} attention-hops or attention heads\n",
        "            max_len     : {int} number of lstm timesteps\n",
        "            emb_dim     : {int} embeddings dimension\n",
        "            vocab_size  : {int} size of the vocabulary\n",
        "            use_pretrained_embeddings: {bool} use or train your own embeddings\n",
        "            embeddings  : {torch.FloatTensor} loaded pretrained embeddings\n",
        "            type        : [0,1] 0-->binary_classification 1-->multiclass classification\n",
        "            n_classes   : {int} number of classes\n",
        " \n",
        "        Returns:\n",
        "            self\n",
        " \n",
        "        Raises:\n",
        "            Exception\n",
        "        \"\"\"\n",
        "        super(StructuredSelfAttention,self).__init__()        \n",
        "        self.n_classes = n_classes\n",
        "        \n",
        "        # Self Attention layers for Article\n",
        "        self.embeddings2,emb_dim = self._load_embeddings(use_pretrained_embeddings,embeddings,vocab_size,emb_dim)\n",
        "        self.lstm2 = torch.nn.LSTM(emb_dim,lstm_hid_dim,1,batch_first=True)\n",
        "        self.linear_first2 = torch.nn.Linear(lstm_hid_dim,d_a)\n",
        "        self.linear_first2.bias.data.fill_(0)\n",
        "        self.linear_second2 = torch.nn.Linear(d_a,r)\n",
        "        self.linear_second2.bias.data.fill_(0)\n",
        "\n",
        "        self.linear_final = torch.nn.Linear(lstm_hid_dim,self.n_classes)\n",
        "        self.batch_size = batch_size       \n",
        "        self.max_len = max_len\n",
        "        self.lstm_hid_dim = lstm_hid_dim\n",
        "        self.hidden_state = self.init_hidden()\n",
        "        self.r = r\n",
        "        self.type = type\n",
        "                 \n",
        "    def _load_embeddings(self,use_pretrained_embeddings,embeddings,vocab_size,emb_dim):\n",
        "        \"\"\"Load the embeddings based on flag\"\"\"\n",
        "        if use_pretrained_embeddings is True and embeddings is None:\n",
        "            raise Exception(\"Send a pretrained word embedding as an argument\")\n",
        "          \n",
        "        if not use_pretrained_embeddings and vocab_size is None:\n",
        "            raise Exception(\"Vocab size cannot be empty\")\n",
        "        \n",
        "        if not use_pretrained_embeddings:\n",
        "            word_embeddings = torch.nn.Embedding(vocab_size,emb_dim,padding_idx=0)\n",
        "            \n",
        "        elif use_pretrained_embeddings:\n",
        "            word_embeddings = torch.nn.Embedding(embeddings.size(0), embeddings.size(1))\n",
        "            word_embeddings.weight = torch.nn.Parameter(embeddings)\n",
        "            emb_dim = embeddings.size(1)\n",
        "            \n",
        "        return word_embeddings,emb_dim\n",
        "       \n",
        "        \n",
        "    def softmax(self,input, axis=1):\n",
        "        \"\"\"\n",
        "        Softmax applied to axis=n\n",
        " \n",
        "        Args:\n",
        "           input: {Tensor,Variable} input on which softmax is to be applied\n",
        "           axis : {int} axis on which softmax is to be applied\n",
        " \n",
        "        Returns:\n",
        "            softmaxed tensors\n",
        " \n",
        "       \n",
        "        \"\"\"\n",
        "        input_size = input.size()\n",
        "        trans_input = input.transpose(axis, len(input_size)-1)\n",
        "        trans_size = trans_input.size()\n",
        "        input_2d = trans_input.contiguous().view(-1, trans_size[-1])\n",
        "        soft_max_2d = F.softmax(input_2d)\n",
        "        soft_max_nd = soft_max_2d.view(*trans_size)\n",
        "        return soft_max_nd.transpose(axis, len(input_size)-1)\n",
        "       \n",
        "        \n",
        "    def init_hidden(self):\n",
        "        return (Variable(torch.zeros(1,self.batch_size,self.lstm_hid_dim)),Variable(torch.zeros(1,self.batch_size,self.lstm_hid_dim)))\n",
        "       \n",
        "        \n",
        "    def forward(self,x,y,xs,ys):\n",
        "        # Article embedding\n",
        "        embeddings2 = self.embeddings2(y)    \n",
        "        # Bi-LSTM layer\n",
        "        outputs2, self.hidden_state2 = self.lstm2(embeddings2.view(self.batch_size,self.max_len,-1),self.hidden_state)  \n",
        "         # Self-Attention mechanism     \n",
        "        x2 = torch.tanh(self.linear_first2(outputs2))       \n",
        "        x2 = self.linear_second2(x2)       \n",
        "        x2 = self.softmax(x2,1)       \n",
        "        attention2 = x2.transpose(1,2)       \n",
        "        sentence_embeddings2 = attention2@outputs2\n",
        "        # Average of the output\n",
        "        avg_sentence_embeddings = torch.sum(sentence_embeddings2,1)/self.r\n",
        "        \n",
        "        output = torch.sigmoid(self.linear_final(avg_sentence_embeddings))\n",
        "\n",
        "        return output,attention2\n",
        "        \n",
        "    #Regularization\n",
        "    def l2_matrix_norm(self,m):\n",
        "        \"\"\"\n",
        "        Frobenius norm calculation\n",
        " \n",
        "        Args:\n",
        "           m: {Variable} ||AAT - I||\n",
        " \n",
        "        Returns:\n",
        "            regularized value\n",
        " \n",
        "       \n",
        "        \"\"\"\n",
        "        return torch.sum(torch.sum(torch.sum(m**2,1),1)**0.5).type(torch.DoubleTensor)"
      ],
      "execution_count": 0,
      "outputs": []
    },
    {
      "cell_type": "code",
      "metadata": {
        "id": "sA0S_CNpv-HI",
        "colab_type": "code",
        "outputId": "57ceff34-b06b-4409-c187-d7e02b650291",
        "colab": {
          "base_uri": "https://localhost:8080/",
          "height": 207
        }
      },
      "source": [
        "# Initialize and train the model\n",
        "attention_model3 = StructuredSelfAttention(batch_size=train_loader.batch_size,lstm_hid_dim=model_params['lstm_hidden_dimension'],d_a = model_params[\"d_a\"],r=params_set[\"attention_hops\"],vocab_size=len(word_to_id),max_len=MAXLENGTH,type=0,n_classes=1,use_pretrained_embeddings=True,embeddings=embeddings)\n",
        "\n",
        "loss, acc = binary_classfication(attention_model3,train_loader=train_loader,epochs=3,use_regularization=True,C=params_set[\"C\"],clip=params_set[\"clip\"])\n"
      ],
      "execution_count": 35,
      "outputs": [
        {
          "output_type": "stream",
          "text": [
            "Running EPOCH 1\n"
          ],
          "name": "stdout"
        },
        {
          "output_type": "stream",
          "text": [
            "/usr/local/lib/python3.6/dist-packages/ipykernel_launcher.py:84: UserWarning: Implicit dimension choice for softmax has been deprecated. Change the call to include dim=X as an argument.\n"
          ],
          "name": "stderr"
        },
        {
          "output_type": "stream",
          "text": [
            "avg_loss is tensor(0.5402, dtype=torch.float64)\n",
            "Accuracy of the model 0.7817595108695652\n",
            "Running EPOCH 2\n",
            "avg_loss is tensor(0.2789, dtype=torch.float64)\n",
            "Accuracy of the model 0.9287109375\n",
            "Running EPOCH 3\n",
            "avg_loss is tensor(0.2106, dtype=torch.float64)\n",
            "Accuracy of the model 0.957625679347826\n"
          ],
          "name": "stdout"
        }
      ]
    },
    {
      "cell_type": "code",
      "metadata": {
        "id": "bLhlDjvNwEgy",
        "colab_type": "code",
        "outputId": "ac9d1780-65ad-47c5-bde1-c534c21a7be5",
        "colab": {
          "base_uri": "https://localhost:8080/",
          "height": 71
        }
      },
      "source": [
        "# Accuracy of the test data\n",
        "acc3, pred3 = evaluate(attention_model3, x_test_pad_cl, x_test_pad, x_test_pad_cls, x_test_pad_s, y_test)\n",
        "print(acc3)"
      ],
      "execution_count": 36,
      "outputs": [
        {
          "output_type": "stream",
          "text": [
            "0.841339648173207\n"
          ],
          "name": "stdout"
        },
        {
          "output_type": "stream",
          "text": [
            "/usr/local/lib/python3.6/dist-packages/ipykernel_launcher.py:84: UserWarning: Implicit dimension choice for softmax has been deprecated. Change the call to include dim=X as an argument.\n"
          ],
          "name": "stderr"
        }
      ]
    },
    {
      "cell_type": "code",
      "metadata": {
        "id": "WLZqN5WNwG_0",
        "colab_type": "code",
        "outputId": "e314f2f1-03d1-420c-f8fc-7c8490085793",
        "colab": {
          "base_uri": "https://localhost:8080/",
          "height": 696
        }
      },
      "source": [
        "plot_confusion_matrix(y_test,pred3.detach().numpy(),[0,1])\n",
        "plot_confusion_matrix(y_test,pred3.detach().numpy(),[0,1], normalize=True)"
      ],
      "execution_count": 37,
      "outputs": [
        {
          "output_type": "stream",
          "text": [
            "Confusion matrix, without normalization\n",
            "[[2353  565]\n",
            " [ 373 2621]]\n",
            "Normalized confusion matrix\n",
            "[[0.80637423 0.19362577]\n",
            " [0.1245825  0.8754175 ]]\n"
          ],
          "name": "stdout"
        },
        {
          "output_type": "execute_result",
          "data": {
            "text/plain": [
              "<matplotlib.axes._subplots.AxesSubplot at 0x7f89826552b0>"
            ]
          },
          "metadata": {
            "tags": []
          },
          "execution_count": 37
        },
        {
          "output_type": "display_data",
          "data": {
            "image/png": "[encoded data removed]",
            "text/plain": [
              "<Figure size 432x288 with 2 Axes>"
            ]
          },
          "metadata": {
            "tags": []
          }
        },
        {
          "output_type": "display_data",
          "data": {
            "image/png": "[encoded data removed]",
            "text/plain": [
              "<Figure size 432x288 with 2 Axes>"
            ]
          },
          "metadata": {
            "tags": []
          }
        }
      ]
    },
    {
      "cell_type": "code",
      "metadata": {
        "id": "Tzr-unOBwKcY",
        "colab_type": "code",
        "outputId": "1719724e-7774-40cd-8e28-35ba51c13fc1",
        "colab": {
          "base_uri": "https://localhost:8080/",
          "height": 272
        }
      },
      "source": [
        "art_p,art_r,art_a,art_f1 = evaluation_summary(\"Self Attention-Article only\", pred3.detach().numpy(), y_test)"
      ],
      "execution_count": 38,
      "outputs": [
        {
          "output_type": "stream",
          "text": [
            "Evaluation for: Self Attention-Article only\n",
            "Classifier 'Self Attention-Article only' has Acc=0.841 P=0.841 R=0.843 F1=0.841\n",
            "              precision    recall  f1-score   support\n",
            "\n",
            "         0.0      0.806     0.863     0.834      2726\n",
            "         1.0      0.875     0.823     0.848      3186\n",
            "\n",
            "    accuracy                          0.841      5912\n",
            "   macro avg      0.841     0.843     0.841      5912\n",
            "weighted avg      0.844     0.841     0.842      5912\n",
            "\n",
            "\n",
            "Confusion matrix:\n",
            " [[2353  565]\n",
            " [ 373 2621]]\n"
          ],
          "name": "stdout"
        }
      ]
    },
    {
      "cell_type": "code",
      "metadata": {
        "id": "GjQNgYzbwTzO",
        "colab_type": "code",
        "outputId": "e3b5c8dc-9f70-446e-9979-9a7399c3f47e",
        "colab": {
          "base_uri": "https://localhost:8080/",
          "height": 34
        }
      },
      "source": [
        "fpr, tpr, thresholds = roc_curve(y_test, pred3.detach().numpy())\n",
        "auc_art = auc(fpr, tpr)\n",
        "print(\"Self Attention-Article only AUC-\",auc_art)"
      ],
      "execution_count": 39,
      "outputs": [
        {
          "output_type": "stream",
          "text": [
            "Self Attention-Article only AUC- 0.8408958652969636\n"
          ],
          "name": "stdout"
        }
      ]
    },
    {
      "cell_type": "code",
      "metadata": {
        "id": "JtDuSrAmwXKg",
        "colab_type": "code",
        "outputId": "3bcfcdc2-3d5c-4919-b79f-ee51fef073af",
        "colab": {
          "base_uri": "https://localhost:8080/",
          "height": 88
        }
      },
      "source": [
        "# Visulaisation\n",
        "test_last_idx = 15\n",
        "wts3 = get_activation_wts(attention_model3,Variable(torch.from_numpy(x_test_pad_cl[:test_last_idx]).type(torch.LongTensor)),\n",
        "                             Variable(torch.from_numpy(x_test_pad[:test_last_idx]).type(torch.LongTensor)),\n",
        "                        Variable(torch.from_numpy(x_test_pad_cls[:test_last_idx]).type(torch.LongTensor)),\n",
        "                        Variable(torch.from_numpy(x_test_pad_s[:test_last_idx]).type(torch.LongTensor)))\n",
        "print(wts3.size())\n",
        "visualize_attention(wts3,x_test_pad[:test_last_idx],word_to_id,filename='attention_art.html')"
      ],
      "execution_count": 40,
      "outputs": [
        {
          "output_type": "stream",
          "text": [
            "torch.Size([15, 10, 150])\n",
            "Attention visualization created for 15 samples\n"
          ],
          "name": "stdout"
        },
        {
          "output_type": "stream",
          "text": [
            "/usr/local/lib/python3.6/dist-packages/ipykernel_launcher.py:84: UserWarning: Implicit dimension choice for softmax has been deprecated. Change the call to include dim=X as an argument.\n"
          ],
          "name": "stderr"
        }
      ]
    },
    {
      "cell_type": "markdown",
      "metadata": {
        "id": "g1IT7vJowfs5",
        "colab_type": "text"
      },
      "source": [
        "## Sub Model- Article and sources"
      ]
    },
    {
      "cell_type": "code",
      "metadata": {
        "id": "6g13BZORwhu9",
        "colab_type": "code",
        "colab": {}
      },
      "source": [
        "# Self attention class uing only the article and article source\n",
        "class StructuredSelfAttention(torch.nn.Module):\n",
        "    \"\"\"\n",
        "    The class is an implementation of the paper A Structured Self-Attentive Sentence Embedding including regularization\n",
        "    and without pruning. Slight modifications have been done for speedup\n",
        "    \"\"\"\n",
        "    def __init__(self,batch_size,lstm_hid_dim,d_a,r,max_len,emb_dim=100,vocab_size=None,use_pretrained_embeddings = False,embeddings=None,type= 0,n_classes = 1):\n",
        "        \"\"\"\n",
        "        Initializes parameters suggested in paper\n",
        " \n",
        "        Args:\n",
        "            batch_size  : {int} batch_size used for training\n",
        "            lstm_hid_dim: {int} hidden dimension for lstm\n",
        "            d_a         : {int} hidden dimension for the dense layer\n",
        "            r           : {int} attention-hops or attention heads\n",
        "            max_len     : {int} number of lstm timesteps\n",
        "            emb_dim     : {int} embeddings dimension\n",
        "            vocab_size  : {int} size of the vocabulary\n",
        "            use_pretrained_embeddings: {bool} use or train your own embeddings\n",
        "            embeddings  : {torch.FloatTensor} loaded pretrained embeddings\n",
        "            type        : [0,1] 0-->binary_classification 1-->multiclass classification\n",
        "            n_classes   : {int} number of classes\n",
        " \n",
        "        Returns:\n",
        "            self\n",
        " \n",
        "        Raises:\n",
        "            Exception\n",
        "        \"\"\"\n",
        "        super(StructuredSelfAttention,self).__init__()       \n",
        "        self.n_classes = n_classes\n",
        "        \n",
        "        # Self Attention layers for Article\n",
        "        self.embeddings2,emb_dim = self._load_embeddings(use_pretrained_embeddings,embeddings,vocab_size,emb_dim)\n",
        "        self.lstm2 = torch.nn.LSTM(emb_dim,lstm_hid_dim,1,batch_first=True)\n",
        "        self.linear_first2 = torch.nn.Linear(lstm_hid_dim,d_a)\n",
        "        self.linear_first2.bias.data.fill_(0)\n",
        "        self.linear_second2 = torch.nn.Linear(d_a,r)\n",
        "        self.linear_second2.bias.data.fill_(0)\n",
        "        \n",
        "         # Embedding layers for sources\n",
        "        self.embeddings3,emb_dim = self._load_embeddings(use_pretrained_embeddings,embeddings,vocab_size,emb_dim)\n",
        "        self.embeddings4,emb_dim = self._load_embeddings(use_pretrained_embeddings,embeddings,vocab_size,emb_dim)\n",
        "        \n",
        "        self.linear_final = torch.nn.Linear(3*lstm_hid_dim,self.n_classes)\n",
        "        self.batch_size = batch_size       \n",
        "        self.max_len = max_len\n",
        "        self.lstm_hid_dim = lstm_hid_dim\n",
        "        self.hidden_state = self.init_hidden()\n",
        "        self.r = r\n",
        "        self.type = type\n",
        "                 \n",
        "    def _load_embeddings(self,use_pretrained_embeddings,embeddings,vocab_size,emb_dim):\n",
        "        \"\"\"Load the embeddings based on flag\"\"\"\n",
        "        if use_pretrained_embeddings is True and embeddings is None:\n",
        "            raise Exception(\"Send a pretrained word embedding as an argument\")\n",
        "          \n",
        "        if not use_pretrained_embeddings and vocab_size is None:\n",
        "            raise Exception(\"Vocab size cannot be empty\")\n",
        "        \n",
        "        if not use_pretrained_embeddings:\n",
        "            word_embeddings = torch.nn.Embedding(vocab_size,emb_dim,padding_idx=0)\n",
        "            \n",
        "        elif use_pretrained_embeddings:\n",
        "            word_embeddings = torch.nn.Embedding(embeddings.size(0), embeddings.size(1))\n",
        "            word_embeddings.weight = torch.nn.Parameter(embeddings)\n",
        "            emb_dim = embeddings.size(1)\n",
        "            \n",
        "        return word_embeddings,emb_dim\n",
        "       \n",
        "        \n",
        "    def softmax(self,input, axis=1):\n",
        "        \"\"\"\n",
        "        Softmax applied to axis=n\n",
        " \n",
        "        Args:\n",
        "           input: {Tensor,Variable} input on which softmax is to be applied\n",
        "           axis : {int} axis on which softmax is to be applied\n",
        " \n",
        "        Returns:\n",
        "            softmaxed tensors\n",
        " \n",
        "       \n",
        "        \"\"\"\n",
        "        input_size = input.size()\n",
        "        trans_input = input.transpose(axis, len(input_size)-1)\n",
        "        trans_size = trans_input.size()\n",
        "        input_2d = trans_input.contiguous().view(-1, trans_size[-1])\n",
        "        soft_max_2d = F.softmax(input_2d)\n",
        "        soft_max_nd = soft_max_2d.view(*trans_size)\n",
        "        return soft_max_nd.transpose(axis, len(input_size)-1)\n",
        "       \n",
        "        \n",
        "    def init_hidden(self):\n",
        "        return (Variable(torch.zeros(1,self.batch_size,self.lstm_hid_dim)),Variable(torch.zeros(1,self.batch_size,self.lstm_hid_dim)))\n",
        "       \n",
        "        \n",
        "    def forward(self,x,y,xs,ys):\n",
        "        # Article embedding\n",
        "        embeddings2 = self.embeddings2(y)    \n",
        "        # Bi-LSTM layer\n",
        "        outputs2, self.hidden_state2 = self.lstm2(embeddings2.view(self.batch_size,self.max_len,-1),self.hidden_state)  \n",
        "        # Self-Attention mechanism     \n",
        "        x2 = torch.tanh(self.linear_first2(outputs2))       \n",
        "        x2 = self.linear_second2(x2)       \n",
        "        x2 = self.softmax(x2,1)       \n",
        "        attention2 = x2.transpose(1,2)       \n",
        "        sentence_embeddings2 = attention2@outputs2\n",
        "        # Average of the output.\n",
        "        avg_sentence_embeddings = torch.sum(sentence_embeddings2,1)/self.r\n",
        "        \n",
        "        # Claim and article source embedding\n",
        "        embeddings3 = self.embeddings3(xs)\n",
        "        embeddings4 = self.embeddings4(ys) \n",
        "        # Average of the embeddings\n",
        "        avg_csource_embeddings = torch.sum(embeddings3,1)/self.r\n",
        "        avg_asource_embeddings = torch.sum(embeddings4,1)/self.r\n",
        "        # Combined average of the sources and self-attention outputs.\n",
        "        comb_avg = torch.cat((avg_sentence_embeddings, avg_csource_embeddings, avg_asource_embeddings), 1)\n",
        " \n",
        "        output = torch.sigmoid(self.linear_final(comb_avg))\n",
        "        \n",
        "        return output,attention2\n",
        "        \n",
        "    #Regularization\n",
        "    def l2_matrix_norm(self,m):\n",
        "        \"\"\"\n",
        "        Frobenius norm calculation\n",
        " \n",
        "        Args:\n",
        "           m: {Variable} ||AAT - I||\n",
        " \n",
        "        Returns:\n",
        "            regularized value\n",
        " \n",
        "       \n",
        "        \"\"\"\n",
        "        return torch.sum(torch.sum(torch.sum(m**2,1),1)**0.5).type(torch.DoubleTensor)"
      ],
      "execution_count": 0,
      "outputs": []
    },
    {
      "cell_type": "code",
      "metadata": {
        "id": "XN4SZAXQwkgZ",
        "colab_type": "code",
        "outputId": "2f27746c-f960-4ed2-ce27-74b9d9da439d",
        "colab": {
          "base_uri": "https://localhost:8080/",
          "height": 156
        }
      },
      "source": [
        "# Initialize and Train the model\n",
        "attention_model4 = StructuredSelfAttention(batch_size=train_loader.batch_size,lstm_hid_dim=model_params['lstm_hidden_dimension'],d_a = model_params[\"d_a\"],r=params_set[\"attention_hops\"],vocab_size=len(word_to_id),max_len=MAXLENGTH,type=0,n_classes=1,use_pretrained_embeddings=True,embeddings=embeddings)\n",
        "\n",
        "loss, acc = binary_classfication(attention_model4,train_loader=train_loader,epochs=2,use_regularization=True,C=params_set[\"C\"],clip=params_set[\"clip\"])"
      ],
      "execution_count": 42,
      "outputs": [
        {
          "output_type": "stream",
          "text": [
            "Running EPOCH 1\n"
          ],
          "name": "stdout"
        },
        {
          "output_type": "stream",
          "text": [
            "/usr/local/lib/python3.6/dist-packages/ipykernel_launcher.py:88: UserWarning: Implicit dimension choice for softmax has been deprecated. Change the call to include dim=X as an argument.\n"
          ],
          "name": "stderr"
        },
        {
          "output_type": "stream",
          "text": [
            "avg_loss is tensor(0.4629, dtype=torch.float64)\n",
            "Accuracy of the model 0.8291440217391305\n",
            "Running EPOCH 2\n",
            "avg_loss is tensor(0.2099, dtype=torch.float64)\n",
            "Accuracy of the model 0.9576681385869565\n"
          ],
          "name": "stdout"
        }
      ]
    },
    {
      "cell_type": "code",
      "metadata": {
        "id": "E3Y46_JBwohh",
        "colab_type": "code",
        "outputId": "245acb53-ac7f-4c7b-d4fd-814db8fedad7",
        "colab": {
          "base_uri": "https://localhost:8080/",
          "height": 71
        }
      },
      "source": [
        "# Accuracy of the test data\n",
        "acc4, pred4 = evaluate(attention_model4, x_test_pad_cl, x_test_pad, x_test_pad_cls, x_test_pad_s, y_test)\n",
        "print(acc4)"
      ],
      "execution_count": 43,
      "outputs": [
        {
          "output_type": "stream",
          "text": [
            "0.8643437077131259\n"
          ],
          "name": "stdout"
        },
        {
          "output_type": "stream",
          "text": [
            "/usr/local/lib/python3.6/dist-packages/ipykernel_launcher.py:88: UserWarning: Implicit dimension choice for softmax has been deprecated. Change the call to include dim=X as an argument.\n"
          ],
          "name": "stderr"
        }
      ]
    },
    {
      "cell_type": "code",
      "metadata": {
        "id": "EBOq-IxzwrxF",
        "colab_type": "code",
        "outputId": "8388a9b6-d6ae-470d-c67e-f17d6068a76c",
        "colab": {
          "base_uri": "https://localhost:8080/",
          "height": 696
        }
      },
      "source": [
        "plot_confusion_matrix(y_test,pred4.detach().numpy(),[0,1])\n",
        "plot_confusion_matrix(y_test,pred4.detach().numpy(),[0,1], normalize=True)"
      ],
      "execution_count": 44,
      "outputs": [
        {
          "output_type": "stream",
          "text": [
            "Confusion matrix, without normalization\n",
            "[[2538  380]\n",
            " [ 422 2572]]\n",
            "Normalized confusion matrix\n",
            "[[0.86977382 0.13022618]\n",
            " [0.14094856 0.85905144]]\n"
          ],
          "name": "stdout"
        },
        {
          "output_type": "execute_result",
          "data": {
            "text/plain": [
              "<matplotlib.axes._subplots.AxesSubplot at 0x7f8982f6c438>"
            ]
          },
          "metadata": {
            "tags": []
          },
          "execution_count": 44
        },
        {
          "output_type": "display_data",
          "data": {
            "image/png": "[encoded data removed]",
            "text/plain": [
              "<Figure size 432x288 with 2 Axes>"
            ]
          },
          "metadata": {
            "tags": []
          }
        },
        {
          "output_type": "display_data",
          "data": {
            "image/png": "[encoded data removed]",
            "text/plain": [
              "<Figure size 432x288 with 2 Axes>"
            ]
          },
          "metadata": {
            "tags": []
          }
        }
      ]
    },
    {
      "cell_type": "code",
      "metadata": {
        "id": "cLZDZ9trwzV1",
        "colab_type": "code",
        "outputId": "dd3721ea-8557-4252-a206-395398a83fae",
        "colab": {
          "base_uri": "https://localhost:8080/",
          "height": 272
        }
      },
      "source": [
        "arts_p,arts_r,arts_a,arts_f1 = evaluation_summary(\"Self Attention-Article and sources\", pred4.detach().numpy(), y_test)"
      ],
      "execution_count": 45,
      "outputs": [
        {
          "output_type": "stream",
          "text": [
            "Evaluation for: Self Attention-Article and sources\n",
            "Classifier 'Self Attention-Article and sources' has Acc=0.864 P=0.864 R=0.864 F1=0.864\n",
            "              precision    recall  f1-score   support\n",
            "\n",
            "         0.0      0.870     0.857     0.864      2960\n",
            "         1.0      0.859     0.871     0.865      2952\n",
            "\n",
            "    accuracy                          0.864      5912\n",
            "   macro avg      0.864     0.864     0.864      5912\n",
            "weighted avg      0.864     0.864     0.864      5912\n",
            "\n",
            "\n",
            "Confusion matrix:\n",
            " [[2538  380]\n",
            " [ 422 2572]]\n"
          ],
          "name": "stdout"
        }
      ]
    },
    {
      "cell_type": "code",
      "metadata": {
        "id": "kxHEvviXw29j",
        "colab_type": "code",
        "outputId": "69aa6e28-d602-4fed-f207-b91e26ed7d67",
        "colab": {
          "base_uri": "https://localhost:8080/",
          "height": 34
        }
      },
      "source": [
        "fpr, tpr, thresholds = roc_curve(y_test, pred4.detach().numpy())\n",
        "auc_arts = auc(fpr, tpr)\n",
        "print(\"Self Attention-Article_souces AUC-\",auc_arts)"
      ],
      "execution_count": 46,
      "outputs": [
        {
          "output_type": "stream",
          "text": [
            "Self Attention-Article_souces AUC- 0.8644126269445448\n"
          ],
          "name": "stdout"
        }
      ]
    },
    {
      "cell_type": "code",
      "metadata": {
        "id": "WDKyl96ow6ba",
        "colab_type": "code",
        "outputId": "f23d7f16-ac70-46e2-96b3-8e55fcb483c7",
        "colab": {
          "base_uri": "https://localhost:8080/",
          "height": 88
        }
      },
      "source": [
        "# Visulaisation\n",
        "test_last_idx = 15\n",
        "wts4 = get_activation_wts(attention_model4,Variable(torch.from_numpy(x_test_pad_cl[:test_last_idx]).type(torch.LongTensor)),\n",
        "                             Variable(torch.from_numpy(x_test_pad[:test_last_idx]).type(torch.LongTensor)),\n",
        "                        Variable(torch.from_numpy(x_test_pad_cls[:test_last_idx]).type(torch.LongTensor)),\n",
        "                        Variable(torch.from_numpy(x_test_pad_s[:test_last_idx]).type(torch.LongTensor)))\n",
        "print(wts4.size())\n",
        "visualize_attention(wts4,x_test_pad[:test_last_idx],word_to_id,filename='attention_art_sources.html')"
      ],
      "execution_count": 47,
      "outputs": [
        {
          "output_type": "stream",
          "text": [
            "torch.Size([15, 10, 150])\n",
            "Attention visualization created for 15 samples\n"
          ],
          "name": "stdout"
        },
        {
          "output_type": "stream",
          "text": [
            "/usr/local/lib/python3.6/dist-packages/ipykernel_launcher.py:88: UserWarning: Implicit dimension choice for softmax has been deprecated. Change the call to include dim=X as an argument.\n"
          ],
          "name": "stderr"
        }
      ]
    },
    {
      "cell_type": "markdown",
      "metadata": {
        "id": "t3ADn0xMAUeo",
        "colab_type": "text"
      },
      "source": [
        "## Full Model using Batchwise dot"
      ]
    },
    {
      "cell_type": "code",
      "metadata": {
        "id": "IA-faCuQAZIq",
        "colab_type": "code",
        "colab": {}
      },
      "source": [
        "# The full model buing rather than just using element-wise multiplication to combine the two self-attentions outputs, we use batch-wise dot product.\n",
        "# The batch-wise dot product is a technique mentioned by lin et al.(2017) in their paper.\n",
        "class StructuredSelfAttention(torch.nn.Module):\n",
        "    \"\"\"\n",
        "    The class is an implementation of the paper A Structured Self-Attentive Sentence Embedding including regularization\n",
        "    and without pruning. Slight modifications have been done for speedup\n",
        "    \"\"\"\n",
        "    def __init__(self,batch_size,lstm_hid_dim,d_a,r,max_len,emb_dim=100,vocab_size=None,use_pretrained_embeddings = False,embeddings=None,type= 0,n_classes = 1):\n",
        "        \"\"\"\n",
        "        Initializes parameters suggested in paper\n",
        " \n",
        "        Args:\n",
        "            batch_size  : {int} batch_size used for training\n",
        "            lstm_hid_dim: {int} hidden dimension for lstm\n",
        "            d_a         : {int} hidden dimension for the dense layer\n",
        "            r           : {int} attention-hops or attention heads\n",
        "            max_len     : {int} number of lstm timesteps\n",
        "            emb_dim     : {int} embeddings dimension\n",
        "            vocab_size  : {int} size of the vocabulary\n",
        "            use_pretrained_embeddings: {bool} use or train your own embeddings\n",
        "            embeddings  : {torch.FloatTensor} loaded pretrained embeddings\n",
        "            type        : [0,1] 0-->binary_classification 1-->multiclass classification\n",
        "            n_classes   : {int} number of classes\n",
        " \n",
        "        Returns:\n",
        "            self\n",
        " \n",
        "        Raises:\n",
        "            Exception\n",
        "        \"\"\"\n",
        "        super(StructuredSelfAttention,self).__init__()\n",
        "        # Model layers initialization.\n",
        "        # Claim related layers\n",
        "        self.embeddings,emb_dim = self._load_embeddings(use_pretrained_embeddings,embeddings,vocab_size,emb_dim)\n",
        "        self.lstm = torch.nn.LSTM(emb_dim,lstm_hid_dim,1,batch_first=True)\n",
        "        self.linear_first = torch.nn.Linear(lstm_hid_dim,d_a)\n",
        "        self.linear_first.bias.data.fill_(0)\n",
        "        self.linear_second = torch.nn.Linear(d_a,r)\n",
        "        self.linear_second.bias.data.fill_(0)\n",
        "        self.n_classes = n_classes\n",
        "        # Article related layers\n",
        "        self.embeddings2,emb_dim = self._load_embeddings(use_pretrained_embeddings,embeddings,vocab_size,emb_dim)\n",
        "        self.lstm2 = torch.nn.LSTM(emb_dim,lstm_hid_dim,1,batch_first=True)\n",
        "        self.linear_first2 = torch.nn.Linear(lstm_hid_dim,d_a)\n",
        "        self.linear_first2.bias.data.fill_(0)\n",
        "        self.linear_second2 = torch.nn.Linear(d_a,r)\n",
        "        self.linear_second2.bias.data.fill_(0)\n",
        "        # ources related layers\n",
        "        self.embeddings3,emb_dim = self._load_embeddings(use_pretrained_embeddings,embeddings,vocab_size,emb_dim)\n",
        "        self.embeddings4,emb_dim = self._load_embeddings(use_pretrained_embeddings,embeddings,vocab_size,emb_dim)\n",
        "        \n",
        "        self.linear_penul = torch.nn.Linear(3*lstm_hid_dim,8)\n",
        "        self.linear_final = torch.nn.Linear(8,self.n_classes)\n",
        "        self.batch_size = batch_size       \n",
        "        self.max_len = max_len\n",
        "        self.lstm_hid_dim = lstm_hid_dim\n",
        "        self.hidden_state = self.init_hidden()\n",
        "        self.r = r\n",
        "        self.type = type\n",
        "                 \n",
        "    def _load_embeddings(self,use_pretrained_embeddings,embeddings,vocab_size,emb_dim):\n",
        "        \"\"\"Load the embeddings based on flag\"\"\"\n",
        "        if use_pretrained_embeddings is True and embeddings is None:\n",
        "            raise Exception(\"Send a pretrained word embedding as an argument\")\n",
        "        \n",
        "        if not use_pretrained_embeddings and vocab_size is None:\n",
        "            raise Exception(\"Vocab size cannot be empty\")\n",
        "\n",
        "        if not use_pretrained_embeddings:\n",
        "            word_embeddings = torch.nn.Embedding(vocab_size,emb_dim,padding_idx=0)\n",
        "            \n",
        "        elif use_pretrained_embeddings:\n",
        "            word_embeddings = torch.nn.Embedding(embeddings.size(0), embeddings.size(1))\n",
        "            word_embeddings.weight = torch.nn.Parameter(embeddings)\n",
        "            emb_dim = embeddings.size(1)\n",
        "            \n",
        "        return word_embeddings,emb_dim\n",
        "       \n",
        "        \n",
        "    def softmax(self,input, axis=1):\n",
        "        \"\"\"\n",
        "        Softmax applied to axis=n\n",
        " \n",
        "        Args:\n",
        "           input: {Tensor,Variable} input on which softmax is to be applied\n",
        "           axis : {int} axis on which softmax is to be applied\n",
        " \n",
        "        Returns:\n",
        "            softmaxed tensors\n",
        " \n",
        "       \n",
        "        \"\"\"\n",
        "        input_size = input.size()\n",
        "        trans_input = input.transpose(axis, len(input_size)-1)\n",
        "        trans_size = trans_input.size()\n",
        "        input_2d = trans_input.contiguous().view(-1, trans_size[-1])\n",
        "        soft_max_2d = F.softmax(input_2d)\n",
        "        soft_max_nd = soft_max_2d.view(*trans_size)\n",
        "        return soft_max_nd.transpose(axis, len(input_size)-1)\n",
        "       \n",
        "        \n",
        "    def init_hidden(self):\n",
        "        return (Variable(torch.zeros(1,self.batch_size,self.lstm_hid_dim)),Variable(torch.zeros(1,self.batch_size,self.lstm_hid_dim)))\n",
        "       \n",
        "        \n",
        "    def forward(self,x,y,xs,ys):\n",
        "        embeddings = self.embeddings(x) # claim embedding\n",
        "        embeddings_part_y = self.embeddings(y[:,:100]) # article embedding uing first 100 values\n",
        "        main_embedding  = torch.cat((embeddings, embeddings_part_y), 1) # combination of the two\n",
        "        # Bi-LSTM layer\n",
        "        outputs, self.hidden_state = self.lstm(main_embedding.view(self.batch_size,self.max_len,-1),self.hidden_state)  \n",
        "        # Self-attention mechanism     \n",
        "        x = torch.tanh(self.linear_first(outputs))       \n",
        "        x = self.linear_second(x)       \n",
        "        x = self.softmax(x,1)       \n",
        "        attention = x.transpose(1,2)  \n",
        "        sentence_embeddings = attention@outputs\n",
        "        # Creation of a random weight matrix\n",
        "        rand_wt = torch.from_numpy(np.random.rand(sentence_embeddings.shape[0], sentence_embeddings.shape[1],sentence_embeddings.shape[1])) \n",
        "        print(rand_wt.shape)\n",
        "        # Multiply the output of the the weight matrix and self-attention output using batch-wise multiplication \n",
        "        factor_rel1 = torch.bmm(sentence_embeddings.transpose(2,1), rand_wt.float()).transpose(2,1)\n",
        "\n",
        "        # Same process is followed for article only input.\n",
        "        embeddings2 = self.embeddings2(y)    \n",
        "        outputs2, self.hidden_state2 = self.lstm2(embeddings2.view(self.batch_size,self.max_len,-1),self.hidden_state)       \n",
        "        x2 = torch.tanh(self.linear_first2(outputs2))       \n",
        "        x2 = self.linear_second2(x2)       \n",
        "        x2 = self.softmax(x2,1)       \n",
        "        attention2 = x2.transpose(1,2)       \n",
        "        sentence_embeddings2 = attention2@outputs2\n",
        "        \n",
        "        rand_wt2 = torch.from_numpy(np.random.rand(sentence_embeddings2.shape[0], sentence_embeddings2.shape[1],sentence_embeddings2.shape[1]))\n",
        "        factor_rel2 = torch.bmm(sentence_embeddings2.transpose(2,1), rand_wt2.float()).transpose(2,1)\n",
        "        # Take element-wise multiplication of the two outputs of BMM.\n",
        "        ele_mul = factor_rel1 * factor_rel2\n",
        "        # Average of the output\n",
        "        avg_sentence_embeddings = torch.sum(ele_mul,1)/self.r\n",
        "\n",
        "        # Claim and article embeddings\n",
        "        embeddings3 = self.embeddings3(xs)\n",
        "        embeddings4 = self.embeddings4(ys) \n",
        "        # Average of the embeddings\n",
        "        avg_csource_embeddings = torch.sum(embeddings3,1)/self.r\n",
        "        avg_asource_embeddings = torch.sum(embeddings4,1)/self.r\n",
        "        # Combined average of all three averages\n",
        "        comb_avg = torch.cat((avg_sentence_embeddings, avg_csource_embeddings, avg_asource_embeddings), 1)\n",
        "        \n",
        "        dense1 = self.linear_penul(comb_avg) \n",
        "        output = torch.sigmoid(self.linear_final(dense1))\n",
        "        return output,attention2\n",
        "        \n",
        "    #Regularization\n",
        "    def l2_matrix_norm(self,m):\n",
        "        \"\"\"\n",
        "        Frobenius norm calculation\n",
        " \n",
        "        Args:\n",
        "           m: {Variable} ||AAT - I||\n",
        " \n",
        "        Returns:\n",
        "            regularized value\n",
        " \n",
        "       \n",
        "        \"\"\"\n",
        "        return torch.sum(torch.sum(torch.sum(m**2,1),1)**0.5).type(torch.DoubleTensor)"
      ],
      "execution_count": 0,
      "outputs": []
    },
    {
      "cell_type": "code",
      "metadata": {
        "id": "Ipz-9qWVBEAz",
        "colab_type": "code",
        "outputId": "d78232be-6680-4a18-fcc7-cad8164e6c0e",
        "colab": {
          "base_uri": "https://localhost:8080/",
          "height": 428
        }
      },
      "source": [
        "# Initialize and train the output\n",
        "attention_model5 = StructuredSelfAttention(batch_size=train_loader.batch_size,lstm_hid_dim=model_params['lstm_hidden_dimension'],d_a = model_params[\"d_a\"],r=params_set[\"attention_hops\"],vocab_size=len(word_to_id),max_len=MAXLENGTH,type=0,n_classes=1,use_pretrained_embeddings=True,embeddings=embeddings)\n",
        "\n",
        "loss, acc = binary_classfication(attention_model5,train_loader=train_loader,epochs=2,use_regularization=False,C=params_set[\"C\"],clip=params_set[\"clip\"])\n"
      ],
      "execution_count": 51,
      "outputs": [
        {
          "output_type": "stream",
          "text": [
            "Running EPOCH 1\n"
          ],
          "name": "stdout"
        },
        {
          "output_type": "stream",
          "text": [
            "/usr/local/lib/python3.6/dist-packages/ipykernel_launcher.py:95: UserWarning: Implicit dimension choice for softmax has been deprecated. Change the call to include dim=X as an argument.\n"
          ],
          "name": "stderr"
        },
        {
          "output_type": "stream",
          "text": [
            "torch.Size([512, 10, 10])\n",
            "torch.Size([512, 10, 10])\n"
          ],
          "name": "stdout"
        },
        {
          "output_type": "error",
          "ename": "KeyboardInterrupt",
          "evalue": "ignored",
          "traceback": [
            "\u001b[0;31m---------------------------------------------------------------------------\u001b[0m",
            "\u001b[0;31mKeyboardInterrupt\u001b[0m                         Traceback (most recent call last)",
            "\u001b[0;32m<ipython-input-51-5682a0a59db2>\u001b[0m in \u001b[0;36m<module>\u001b[0;34m()\u001b[0m\n\u001b[1;32m      1\u001b[0m \u001b[0mattention_model5\u001b[0m \u001b[0;34m=\u001b[0m \u001b[0mStructuredSelfAttention\u001b[0m\u001b[0;34m(\u001b[0m\u001b[0mbatch_size\u001b[0m\u001b[0;34m=\u001b[0m\u001b[0mtrain_loader\u001b[0m\u001b[0;34m.\u001b[0m\u001b[0mbatch_size\u001b[0m\u001b[0;34m,\u001b[0m\u001b[0mlstm_hid_dim\u001b[0m\u001b[0;34m=\u001b[0m\u001b[0mmodel_params\u001b[0m\u001b[0;34m[\u001b[0m\u001b[0;34m'lstm_hidden_dimension'\u001b[0m\u001b[0;34m]\u001b[0m\u001b[0;34m,\u001b[0m\u001b[0md_a\u001b[0m \u001b[0;34m=\u001b[0m \u001b[0mmodel_params\u001b[0m\u001b[0;34m[\u001b[0m\u001b[0;34m\"d_a\"\u001b[0m\u001b[0;34m]\u001b[0m\u001b[0;34m,\u001b[0m\u001b[0mr\u001b[0m\u001b[0;34m=\u001b[0m\u001b[0mparams_set\u001b[0m\u001b[0;34m[\u001b[0m\u001b[0;34m\"attention_hops\"\u001b[0m\u001b[0;34m]\u001b[0m\u001b[0;34m,\u001b[0m\u001b[0mvocab_size\u001b[0m\u001b[0;34m=\u001b[0m\u001b[0mlen\u001b[0m\u001b[0;34m(\u001b[0m\u001b[0mword_to_id\u001b[0m\u001b[0;34m)\u001b[0m\u001b[0;34m,\u001b[0m\u001b[0mmax_len\u001b[0m\u001b[0;34m=\u001b[0m\u001b[0mMAXLENGTH\u001b[0m\u001b[0;34m,\u001b[0m\u001b[0mtype\u001b[0m\u001b[0;34m=\u001b[0m\u001b[0;36m0\u001b[0m\u001b[0;34m,\u001b[0m\u001b[0mn_classes\u001b[0m\u001b[0;34m=\u001b[0m\u001b[0;36m1\u001b[0m\u001b[0;34m,\u001b[0m\u001b[0muse_pretrained_embeddings\u001b[0m\u001b[0;34m=\u001b[0m\u001b[0;32mTrue\u001b[0m\u001b[0;34m,\u001b[0m\u001b[0membeddings\u001b[0m\u001b[0;34m=\u001b[0m\u001b[0membeddings\u001b[0m\u001b[0;34m)\u001b[0m\u001b[0;34m\u001b[0m\u001b[0;34m\u001b[0m\u001b[0m\n\u001b[1;32m      2\u001b[0m \u001b[0;34m\u001b[0m\u001b[0m\n\u001b[0;32m----> 3\u001b[0;31m \u001b[0mloss\u001b[0m\u001b[0;34m,\u001b[0m \u001b[0macc\u001b[0m \u001b[0;34m=\u001b[0m \u001b[0mbinary_classfication\u001b[0m\u001b[0;34m(\u001b[0m\u001b[0mattention_model5\u001b[0m\u001b[0;34m,\u001b[0m\u001b[0mtrain_loader\u001b[0m\u001b[0;34m=\u001b[0m\u001b[0mtrain_loader\u001b[0m\u001b[0;34m,\u001b[0m\u001b[0mepochs\u001b[0m\u001b[0;34m=\u001b[0m\u001b[0;36m2\u001b[0m\u001b[0;34m,\u001b[0m\u001b[0muse_regularization\u001b[0m\u001b[0;34m=\u001b[0m\u001b[0;32mFalse\u001b[0m\u001b[0;34m,\u001b[0m\u001b[0mC\u001b[0m\u001b[0;34m=\u001b[0m\u001b[0mparams_set\u001b[0m\u001b[0;34m[\u001b[0m\u001b[0;34m\"C\"\u001b[0m\u001b[0;34m]\u001b[0m\u001b[0;34m,\u001b[0m\u001b[0mclip\u001b[0m\u001b[0;34m=\u001b[0m\u001b[0mparams_set\u001b[0m\u001b[0;34m[\u001b[0m\u001b[0;34m\"clip\"\u001b[0m\u001b[0;34m]\u001b[0m\u001b[0;34m)\u001b[0m\u001b[0;34m\u001b[0m\u001b[0;34m\u001b[0m\u001b[0m\n\u001b[0m",
            "\u001b[0;32m<ipython-input-17-87b0dd2f1e24>\u001b[0m in \u001b[0;36mbinary_classfication\u001b[0;34m(attention_model, train_loader, epochs, use_regularization, C, clip)\u001b[0m\n\u001b[1;32m     23\u001b[0m     \u001b[0mloss\u001b[0m \u001b[0;34m=\u001b[0m \u001b[0mtorch\u001b[0m\u001b[0;34m.\u001b[0m\u001b[0mnn\u001b[0m\u001b[0;34m.\u001b[0m\u001b[0mBCELoss\u001b[0m\u001b[0;34m(\u001b[0m\u001b[0;34m)\u001b[0m\u001b[0;34m\u001b[0m\u001b[0;34m\u001b[0m\u001b[0m\n\u001b[1;32m     24\u001b[0m     \u001b[0moptimizer\u001b[0m \u001b[0;34m=\u001b[0m \u001b[0mtorch\u001b[0m\u001b[0;34m.\u001b[0m\u001b[0moptim\u001b[0m\u001b[0;34m.\u001b[0m\u001b[0mRMSprop\u001b[0m\u001b[0;34m(\u001b[0m\u001b[0mattention_model\u001b[0m\u001b[0;34m.\u001b[0m\u001b[0mparameters\u001b[0m\u001b[0;34m(\u001b[0m\u001b[0;34m)\u001b[0m\u001b[0;34m)\u001b[0m\u001b[0;34m\u001b[0m\u001b[0;34m\u001b[0m\u001b[0m\n\u001b[0;32m---> 25\u001b[0;31m     \u001b[0mloss\u001b[0m\u001b[0;34m,\u001b[0m\u001b[0maccuracy\u001b[0m\u001b[0;34m=\u001b[0m\u001b[0mtrain\u001b[0m\u001b[0;34m(\u001b[0m\u001b[0mattention_model\u001b[0m\u001b[0;34m,\u001b[0m\u001b[0mtrain_loader\u001b[0m\u001b[0;34m,\u001b[0m\u001b[0mloss\u001b[0m\u001b[0;34m,\u001b[0m\u001b[0moptimizer\u001b[0m\u001b[0;34m,\u001b[0m\u001b[0mepochs\u001b[0m\u001b[0;34m,\u001b[0m\u001b[0muse_regularization\u001b[0m\u001b[0;34m,\u001b[0m\u001b[0mC\u001b[0m\u001b[0;34m,\u001b[0m\u001b[0mclip\u001b[0m\u001b[0;34m)\u001b[0m\u001b[0;34m\u001b[0m\u001b[0;34m\u001b[0m\u001b[0m\n\u001b[0m\u001b[1;32m     26\u001b[0m     \u001b[0;32mreturn\u001b[0m \u001b[0mloss\u001b[0m\u001b[0;34m,\u001b[0m \u001b[0maccuracy\u001b[0m\u001b[0;34m\u001b[0m\u001b[0;34m\u001b[0m\u001b[0m\n",
            "\u001b[0;32m<ipython-input-16-43d2b81b275e>\u001b[0m in \u001b[0;36mtrain\u001b[0;34m(attention_model, train_loader, criterion, optimizer, epochs, use_regularization, C, clip)\u001b[0m\n\u001b[1;32m     29\u001b[0m            \u001b[0mattention_model\u001b[0m\u001b[0;34m.\u001b[0m\u001b[0mhidden_state\u001b[0m \u001b[0;34m=\u001b[0m \u001b[0mattention_model\u001b[0m\u001b[0;34m.\u001b[0m\u001b[0minit_hidden\u001b[0m\u001b[0;34m(\u001b[0m\u001b[0;34m)\u001b[0m\u001b[0;34m\u001b[0m\u001b[0;34m\u001b[0m\u001b[0m\n\u001b[1;32m     30\u001b[0m            \u001b[0mx\u001b[0m\u001b[0;34m,\u001b[0m\u001b[0mx2\u001b[0m\u001b[0;34m,\u001b[0m\u001b[0mxs\u001b[0m\u001b[0;34m,\u001b[0m\u001b[0mx2s\u001b[0m\u001b[0;34m,\u001b[0m\u001b[0my\u001b[0m \u001b[0;34m=\u001b[0m \u001b[0mVariable\u001b[0m\u001b[0;34m(\u001b[0m\u001b[0mtrain\u001b[0m\u001b[0;34m[\u001b[0m\u001b[0;36m0\u001b[0m\u001b[0;34m]\u001b[0m\u001b[0;34m)\u001b[0m\u001b[0;34m,\u001b[0m\u001b[0mVariable\u001b[0m\u001b[0;34m(\u001b[0m\u001b[0mtrain\u001b[0m\u001b[0;34m[\u001b[0m\u001b[0;36m1\u001b[0m\u001b[0;34m]\u001b[0m\u001b[0;34m)\u001b[0m\u001b[0;34m,\u001b[0m\u001b[0mVariable\u001b[0m\u001b[0;34m(\u001b[0m\u001b[0mtrain\u001b[0m\u001b[0;34m[\u001b[0m\u001b[0;36m2\u001b[0m\u001b[0;34m]\u001b[0m\u001b[0;34m)\u001b[0m\u001b[0;34m,\u001b[0m\u001b[0mVariable\u001b[0m\u001b[0;34m(\u001b[0m\u001b[0mtrain\u001b[0m\u001b[0;34m[\u001b[0m\u001b[0;36m3\u001b[0m\u001b[0;34m]\u001b[0m\u001b[0;34m)\u001b[0m\u001b[0;34m,\u001b[0m\u001b[0mVariable\u001b[0m\u001b[0;34m(\u001b[0m\u001b[0mtrain\u001b[0m\u001b[0;34m[\u001b[0m\u001b[0;36m4\u001b[0m\u001b[0;34m]\u001b[0m\u001b[0;34m)\u001b[0m\u001b[0;34m\u001b[0m\u001b[0;34m\u001b[0m\u001b[0m\n\u001b[0;32m---> 31\u001b[0;31m            \u001b[0my_pred\u001b[0m\u001b[0;34m,\u001b[0m\u001b[0matt\u001b[0m \u001b[0;34m=\u001b[0m \u001b[0mattention_model\u001b[0m\u001b[0;34m(\u001b[0m\u001b[0mx\u001b[0m\u001b[0;34m,\u001b[0m\u001b[0mx2\u001b[0m\u001b[0;34m,\u001b[0m\u001b[0mxs\u001b[0m\u001b[0;34m,\u001b[0m\u001b[0mx2s\u001b[0m\u001b[0;34m)\u001b[0m\u001b[0;34m\u001b[0m\u001b[0;34m\u001b[0m\u001b[0m\n\u001b[0m\u001b[1;32m     32\u001b[0m \u001b[0;34m\u001b[0m\u001b[0m\n\u001b[1;32m     33\u001b[0m            \u001b[0;31m#penalization AAT - I\u001b[0m\u001b[0;34m\u001b[0m\u001b[0;34m\u001b[0m\u001b[0;34m\u001b[0m\u001b[0m\n",
            "\u001b[0;32m/usr/local/lib/python3.6/dist-packages/torch/nn/modules/module.py\u001b[0m in \u001b[0;36m__call__\u001b[0;34m(self, *input, **kwargs)\u001b[0m\n\u001b[1;32m    539\u001b[0m             \u001b[0mresult\u001b[0m \u001b[0;34m=\u001b[0m \u001b[0mself\u001b[0m\u001b[0;34m.\u001b[0m\u001b[0m_slow_forward\u001b[0m\u001b[0;34m(\u001b[0m\u001b[0;34m*\u001b[0m\u001b[0minput\u001b[0m\u001b[0;34m,\u001b[0m \u001b[0;34m**\u001b[0m\u001b[0mkwargs\u001b[0m\u001b[0;34m)\u001b[0m\u001b[0;34m\u001b[0m\u001b[0;34m\u001b[0m\u001b[0m\n\u001b[1;32m    540\u001b[0m         \u001b[0;32melse\u001b[0m\u001b[0;34m:\u001b[0m\u001b[0;34m\u001b[0m\u001b[0;34m\u001b[0m\u001b[0m\n\u001b[0;32m--> 541\u001b[0;31m             \u001b[0mresult\u001b[0m \u001b[0;34m=\u001b[0m \u001b[0mself\u001b[0m\u001b[0;34m.\u001b[0m\u001b[0mforward\u001b[0m\u001b[0;34m(\u001b[0m\u001b[0;34m*\u001b[0m\u001b[0minput\u001b[0m\u001b[0;34m,\u001b[0m \u001b[0;34m**\u001b[0m\u001b[0mkwargs\u001b[0m\u001b[0;34m)\u001b[0m\u001b[0;34m\u001b[0m\u001b[0;34m\u001b[0m\u001b[0m\n\u001b[0m\u001b[1;32m    542\u001b[0m         \u001b[0;32mfor\u001b[0m \u001b[0mhook\u001b[0m \u001b[0;32min\u001b[0m \u001b[0mself\u001b[0m\u001b[0;34m.\u001b[0m\u001b[0m_forward_hooks\u001b[0m\u001b[0;34m.\u001b[0m\u001b[0mvalues\u001b[0m\u001b[0;34m(\u001b[0m\u001b[0;34m)\u001b[0m\u001b[0;34m:\u001b[0m\u001b[0;34m\u001b[0m\u001b[0;34m\u001b[0m\u001b[0m\n\u001b[1;32m    543\u001b[0m             \u001b[0mhook_result\u001b[0m \u001b[0;34m=\u001b[0m \u001b[0mhook\u001b[0m\u001b[0;34m(\u001b[0m\u001b[0mself\u001b[0m\u001b[0;34m,\u001b[0m \u001b[0minput\u001b[0m\u001b[0;34m,\u001b[0m \u001b[0mresult\u001b[0m\u001b[0;34m)\u001b[0m\u001b[0;34m\u001b[0m\u001b[0;34m\u001b[0m\u001b[0m\n",
            "\u001b[0;32m<ipython-input-50-e9a4403200a0>\u001b[0m in \u001b[0;36mforward\u001b[0;34m(self, x, y, xs, ys)\u001b[0m\n\u001b[1;32m    107\u001b[0m         \u001b[0mmain_embedding\u001b[0m  \u001b[0;34m=\u001b[0m \u001b[0mtorch\u001b[0m\u001b[0;34m.\u001b[0m\u001b[0mcat\u001b[0m\u001b[0;34m(\u001b[0m\u001b[0;34m(\u001b[0m\u001b[0membeddings\u001b[0m\u001b[0;34m,\u001b[0m \u001b[0membeddings_part_y\u001b[0m\u001b[0;34m)\u001b[0m\u001b[0;34m,\u001b[0m \u001b[0;36m1\u001b[0m\u001b[0;34m)\u001b[0m \u001b[0;31m# combination of the two\u001b[0m\u001b[0;34m\u001b[0m\u001b[0;34m\u001b[0m\u001b[0m\n\u001b[1;32m    108\u001b[0m         \u001b[0;31m# Bi-LSTM layer\u001b[0m\u001b[0;34m\u001b[0m\u001b[0;34m\u001b[0m\u001b[0;34m\u001b[0m\u001b[0m\n\u001b[0;32m--> 109\u001b[0;31m         \u001b[0moutputs\u001b[0m\u001b[0;34m,\u001b[0m \u001b[0mself\u001b[0m\u001b[0;34m.\u001b[0m\u001b[0mhidden_state\u001b[0m \u001b[0;34m=\u001b[0m \u001b[0mself\u001b[0m\u001b[0;34m.\u001b[0m\u001b[0mlstm\u001b[0m\u001b[0;34m(\u001b[0m\u001b[0mmain_embedding\u001b[0m\u001b[0;34m.\u001b[0m\u001b[0mview\u001b[0m\u001b[0;34m(\u001b[0m\u001b[0mself\u001b[0m\u001b[0;34m.\u001b[0m\u001b[0mbatch_size\u001b[0m\u001b[0;34m,\u001b[0m\u001b[0mself\u001b[0m\u001b[0;34m.\u001b[0m\u001b[0mmax_len\u001b[0m\u001b[0;34m,\u001b[0m\u001b[0;34m-\u001b[0m\u001b[0;36m1\u001b[0m\u001b[0;34m)\u001b[0m\u001b[0;34m,\u001b[0m\u001b[0mself\u001b[0m\u001b[0;34m.\u001b[0m\u001b[0mhidden_state\u001b[0m\u001b[0;34m)\u001b[0m\u001b[0;34m\u001b[0m\u001b[0;34m\u001b[0m\u001b[0m\n\u001b[0m\u001b[1;32m    110\u001b[0m         \u001b[0;31m# Self-attention mechanism\u001b[0m\u001b[0;34m\u001b[0m\u001b[0;34m\u001b[0m\u001b[0;34m\u001b[0m\u001b[0m\n\u001b[1;32m    111\u001b[0m         \u001b[0mx\u001b[0m \u001b[0;34m=\u001b[0m \u001b[0mtorch\u001b[0m\u001b[0;34m.\u001b[0m\u001b[0mtanh\u001b[0m\u001b[0;34m(\u001b[0m\u001b[0mself\u001b[0m\u001b[0;34m.\u001b[0m\u001b[0mlinear_first\u001b[0m\u001b[0;34m(\u001b[0m\u001b[0moutputs\u001b[0m\u001b[0;34m)\u001b[0m\u001b[0;34m)\u001b[0m\u001b[0;34m\u001b[0m\u001b[0;34m\u001b[0m\u001b[0m\n",
            "\u001b[0;32m/usr/local/lib/python3.6/dist-packages/torch/nn/modules/module.py\u001b[0m in \u001b[0;36m__call__\u001b[0;34m(self, *input, **kwargs)\u001b[0m\n\u001b[1;32m    539\u001b[0m             \u001b[0mresult\u001b[0m \u001b[0;34m=\u001b[0m \u001b[0mself\u001b[0m\u001b[0;34m.\u001b[0m\u001b[0m_slow_forward\u001b[0m\u001b[0;34m(\u001b[0m\u001b[0;34m*\u001b[0m\u001b[0minput\u001b[0m\u001b[0;34m,\u001b[0m \u001b[0;34m**\u001b[0m\u001b[0mkwargs\u001b[0m\u001b[0;34m)\u001b[0m\u001b[0;34m\u001b[0m\u001b[0;34m\u001b[0m\u001b[0m\n\u001b[1;32m    540\u001b[0m         \u001b[0;32melse\u001b[0m\u001b[0;34m:\u001b[0m\u001b[0;34m\u001b[0m\u001b[0;34m\u001b[0m\u001b[0m\n\u001b[0;32m--> 541\u001b[0;31m             \u001b[0mresult\u001b[0m \u001b[0;34m=\u001b[0m \u001b[0mself\u001b[0m\u001b[0;34m.\u001b[0m\u001b[0mforward\u001b[0m\u001b[0;34m(\u001b[0m\u001b[0;34m*\u001b[0m\u001b[0minput\u001b[0m\u001b[0;34m,\u001b[0m \u001b[0;34m**\u001b[0m\u001b[0mkwargs\u001b[0m\u001b[0;34m)\u001b[0m\u001b[0;34m\u001b[0m\u001b[0;34m\u001b[0m\u001b[0m\n\u001b[0m\u001b[1;32m    542\u001b[0m         \u001b[0;32mfor\u001b[0m \u001b[0mhook\u001b[0m \u001b[0;32min\u001b[0m \u001b[0mself\u001b[0m\u001b[0;34m.\u001b[0m\u001b[0m_forward_hooks\u001b[0m\u001b[0;34m.\u001b[0m\u001b[0mvalues\u001b[0m\u001b[0;34m(\u001b[0m\u001b[0;34m)\u001b[0m\u001b[0;34m:\u001b[0m\u001b[0;34m\u001b[0m\u001b[0;34m\u001b[0m\u001b[0m\n\u001b[1;32m    543\u001b[0m             \u001b[0mhook_result\u001b[0m \u001b[0;34m=\u001b[0m \u001b[0mhook\u001b[0m\u001b[0;34m(\u001b[0m\u001b[0mself\u001b[0m\u001b[0;34m,\u001b[0m \u001b[0minput\u001b[0m\u001b[0;34m,\u001b[0m \u001b[0mresult\u001b[0m\u001b[0;34m)\u001b[0m\u001b[0;34m\u001b[0m\u001b[0;34m\u001b[0m\u001b[0m\n",
            "\u001b[0;32m/usr/local/lib/python3.6/dist-packages/torch/nn/modules/rnn.py\u001b[0m in \u001b[0;36mforward\u001b[0;34m(self, input, hx)\u001b[0m\n\u001b[1;32m    562\u001b[0m             \u001b[0;32mreturn\u001b[0m \u001b[0mself\u001b[0m\u001b[0;34m.\u001b[0m\u001b[0mforward_packed\u001b[0m\u001b[0;34m(\u001b[0m\u001b[0minput\u001b[0m\u001b[0;34m,\u001b[0m \u001b[0mhx\u001b[0m\u001b[0;34m)\u001b[0m\u001b[0;34m\u001b[0m\u001b[0;34m\u001b[0m\u001b[0m\n\u001b[1;32m    563\u001b[0m         \u001b[0;32melse\u001b[0m\u001b[0;34m:\u001b[0m\u001b[0;34m\u001b[0m\u001b[0;34m\u001b[0m\u001b[0m\n\u001b[0;32m--> 564\u001b[0;31m             \u001b[0;32mreturn\u001b[0m \u001b[0mself\u001b[0m\u001b[0;34m.\u001b[0m\u001b[0mforward_tensor\u001b[0m\u001b[0;34m(\u001b[0m\u001b[0minput\u001b[0m\u001b[0;34m,\u001b[0m \u001b[0mhx\u001b[0m\u001b[0;34m)\u001b[0m\u001b[0;34m\u001b[0m\u001b[0;34m\u001b[0m\u001b[0m\n\u001b[0m\u001b[1;32m    565\u001b[0m \u001b[0;34m\u001b[0m\u001b[0m\n\u001b[1;32m    566\u001b[0m \u001b[0;34m\u001b[0m\u001b[0m\n",
            "\u001b[0;32m/usr/local/lib/python3.6/dist-packages/torch/nn/modules/rnn.py\u001b[0m in \u001b[0;36mforward_tensor\u001b[0;34m(self, input, hx)\u001b[0m\n\u001b[1;32m    541\u001b[0m         \u001b[0munsorted_indices\u001b[0m \u001b[0;34m=\u001b[0m \u001b[0;32mNone\u001b[0m\u001b[0;34m\u001b[0m\u001b[0;34m\u001b[0m\u001b[0m\n\u001b[1;32m    542\u001b[0m \u001b[0;34m\u001b[0m\u001b[0m\n\u001b[0;32m--> 543\u001b[0;31m         \u001b[0moutput\u001b[0m\u001b[0;34m,\u001b[0m \u001b[0mhidden\u001b[0m \u001b[0;34m=\u001b[0m \u001b[0mself\u001b[0m\u001b[0;34m.\u001b[0m\u001b[0mforward_impl\u001b[0m\u001b[0;34m(\u001b[0m\u001b[0minput\u001b[0m\u001b[0;34m,\u001b[0m \u001b[0mhx\u001b[0m\u001b[0;34m,\u001b[0m \u001b[0mbatch_sizes\u001b[0m\u001b[0;34m,\u001b[0m \u001b[0mmax_batch_size\u001b[0m\u001b[0;34m,\u001b[0m \u001b[0msorted_indices\u001b[0m\u001b[0;34m)\u001b[0m\u001b[0;34m\u001b[0m\u001b[0;34m\u001b[0m\u001b[0m\n\u001b[0m\u001b[1;32m    544\u001b[0m \u001b[0;34m\u001b[0m\u001b[0m\n\u001b[1;32m    545\u001b[0m         \u001b[0;32mreturn\u001b[0m \u001b[0moutput\u001b[0m\u001b[0;34m,\u001b[0m \u001b[0mself\u001b[0m\u001b[0;34m.\u001b[0m\u001b[0mpermute_hidden\u001b[0m\u001b[0;34m(\u001b[0m\u001b[0mhidden\u001b[0m\u001b[0;34m,\u001b[0m \u001b[0munsorted_indices\u001b[0m\u001b[0;34m)\u001b[0m\u001b[0;34m\u001b[0m\u001b[0;34m\u001b[0m\u001b[0m\n",
            "\u001b[0;32m/usr/local/lib/python3.6/dist-packages/torch/nn/modules/rnn.py\u001b[0m in \u001b[0;36mforward_impl\u001b[0;34m(self, input, hx, batch_sizes, max_batch_size, sorted_indices)\u001b[0m\n\u001b[1;32m    524\u001b[0m         \u001b[0;32mif\u001b[0m \u001b[0mbatch_sizes\u001b[0m \u001b[0;32mis\u001b[0m \u001b[0;32mNone\u001b[0m\u001b[0;34m:\u001b[0m\u001b[0;34m\u001b[0m\u001b[0;34m\u001b[0m\u001b[0m\n\u001b[1;32m    525\u001b[0m             result = _VF.lstm(input, hx, self._get_flat_weights(), self.bias, self.num_layers,\n\u001b[0;32m--> 526\u001b[0;31m                               self.dropout, self.training, self.bidirectional, self.batch_first)\n\u001b[0m\u001b[1;32m    527\u001b[0m         \u001b[0;32melse\u001b[0m\u001b[0;34m:\u001b[0m\u001b[0;34m\u001b[0m\u001b[0;34m\u001b[0m\u001b[0m\n\u001b[1;32m    528\u001b[0m             result = _VF.lstm(input, batch_sizes, hx, self._get_flat_weights(), self.bias,\n",
            "\u001b[0;31mKeyboardInterrupt\u001b[0m: "
          ]
        }
      ]
    },
    {
      "cell_type": "code",
      "metadata": {
        "id": "CjkNKmssBPDo",
        "colab_type": "code",
        "colab": {}
      },
      "source": [
        "# Accuracy of the test data\n",
        "acc5, pred5 = evaluate(attention_model5, x_test_pad_cl, x_test_pad, x_test_pad_cls, x_test_pad_s, y_test)\n",
        "print(acc5)"
      ],
      "execution_count": 0,
      "outputs": []
    },
    {
      "cell_type": "code",
      "metadata": {
        "id": "_zjrROjYCTWU",
        "colab_type": "code",
        "colab": {}
      },
      "source": [
        "plot_confusion_matrix(y_test,pred5.detach().numpy(),[0,1])\n",
        "plot_confusion_matrix(y_test,pred5.detach().numpy(),[0,1], normalize=True)"
      ],
      "execution_count": 0,
      "outputs": []
    },
    {
      "cell_type": "code",
      "metadata": {
        "id": "Oc0goin7CTSn",
        "colab_type": "code",
        "colab": {}
      },
      "source": [
        "batch_p,batch_r,batch_a,batch_f1 = evaluation_summary(\"Self Attention-Article and sources\", pred5.detach().numpy(), y_test)"
      ],
      "execution_count": 0,
      "outputs": []
    },
    {
      "cell_type": "code",
      "metadata": {
        "id": "Ah0xu_kLC1gb",
        "colab_type": "code",
        "colab": {}
      },
      "source": [
        "fpr, tpr, thresholds = roc_curve(y_test, pred5.detach().numpy())\n",
        "auc_batch = auc(fpr, tpr)\n",
        "print(\"Self Attention-Article_souces AUC-\",auc_batch)"
      ],
      "execution_count": 0,
      "outputs": []
    },
    {
      "cell_type": "code",
      "metadata": {
        "id": "fgrULbGVC-g8",
        "colab_type": "code",
        "colab": {}
      },
      "source": [
        "# Visulaisation\n",
        "test_last_idx = 15\n",
        "wts5 = get_activation_wts(attention_model5,Variable(torch.from_numpy(x_test_pad_cl[:test_last_idx]).type(torch.LongTensor)),\n",
        "                             Variable(torch.from_numpy(x_test_pad[:test_last_idx]).type(torch.LongTensor)),\n",
        "                        Variable(torch.from_numpy(x_test_pad_cls[:test_last_idx]).type(torch.LongTensor)),\n",
        "                        Variable(torch.from_numpy(x_test_pad_s[:test_last_idx]).type(torch.LongTensor)))\n",
        "print(wts5.size())\n",
        "visualize_attention(wts5,x_test_pad[:test_last_idx],word_to_id,filename='attention_batch_dot.html')"
      ],
      "execution_count": 0,
      "outputs": []
    },
    {
      "cell_type": "markdown",
      "metadata": {
        "id": "EaczWn08sSTj",
        "colab_type": "text"
      },
      "source": [
        "##Evaluation on Unique Claims"
      ]
    },
    {
      "cell_type": "markdown",
      "metadata": {
        "id": "ej6cJ2SgzgC8",
        "colab_type": "text"
      },
      "source": [
        "Due to the problem of experimental bias introduced into the model, we test the performance of the Hybrid model on unique claims. This bias is introduced because a claim can be associated with many articles and hence can be repeated in traning and test data making it seen data for the model when testing."
      ]
    },
    {
      "cell_type": "code",
      "metadata": {
        "id": "Ib8RGSXBsWrC",
        "colab_type": "code",
        "colab": {}
      },
      "source": [
        "# For full model\n",
        "x_test_or['bin_cred_label'] = y_test\n",
        "x_test_or['pred_label_full'] = pred.detach().numpy()\n",
        "unique_test_or2 = x_test_or[~x_test_or['claim_text'].isin(x_train_or['claim_text'])]\n",
        "unique_test_or2.head()"
      ],
      "execution_count": 0,
      "outputs": []
    },
    {
      "cell_type": "code",
      "metadata": {
        "id": "laV8y5eBsjES",
        "colab_type": "code",
        "colab": {}
      },
      "source": [
        "bin_pred2=unique_test_or2['bin_cred_label'].tolist()\n",
        "pred_val2=unique_test_or2['pred_label_full'].tolist()"
      ],
      "execution_count": 0,
      "outputs": []
    },
    {
      "cell_type": "code",
      "metadata": {
        "id": "V4zk7CE3spIs",
        "colab_type": "code",
        "colab": {}
      },
      "source": [
        "plot_confusion_matrix(bin_pred2,pred_val2,[0,1])\n",
        "plot_confusion_matrix(bin_pred2,pred_val2,[0,1], normalize=True)"
      ],
      "execution_count": 0,
      "outputs": []
    },
    {
      "cell_type": "code",
      "metadata": {
        "id": "3h77GFZ4spwl",
        "colab_type": "code",
        "colab": {}
      },
      "source": [
        "ac_p,ac_r,ac_a,ac_f1 = evaluation_summary(\"Self Attention-article and claim\", pred_val2, bin_pred2)"
      ],
      "execution_count": 0,
      "outputs": []
    },
    {
      "cell_type": "code",
      "metadata": {
        "id": "--d7_OuFstNJ",
        "colab_type": "code",
        "colab": {}
      },
      "source": [
        "fpr, tpr, thresholds = roc_curve(bin_pred2, pred_val2)\n",
        "auc_arts = auc(fpr, tpr)\n",
        "print(\"Self Attention-Article_souces AUC-\",auc_arts)"
      ],
      "execution_count": 0,
      "outputs": []
    },
    {
      "cell_type": "code",
      "metadata": {
        "id": "ynUS8fN4swEZ",
        "colab_type": "code",
        "colab": {}
      },
      "source": [
        "label_counts = unique_test_or2['bin_cred_label'].value_counts()\n",
        "print(label_counts.describe())\n",
        "top_labels = label_counts.nlargest(5)\n",
        "top_labels_list = top_labels.index.tolist()\n",
        "print(top_labels)"
      ],
      "execution_count": 0,
      "outputs": []
    },
    {
      "cell_type": "code",
      "metadata": {
        "id": "y8NcHl0AszAM",
        "colab_type": "code",
        "colab": {}
      },
      "source": [
        "incorrect2 = unique_test_or2[unique_test_or2['bin_cred_label']!=unique_test_or2['pred_label_full'].astype(int)]\n",
        "incorrect2"
      ],
      "execution_count": 0,
      "outputs": []
    },
    {
      "cell_type": "code",
      "metadata": {
        "id": "dfwu1VYfs1XO",
        "colab_type": "code",
        "colab": {}
      },
      "source": [
        "# Write to csv\n",
        "unique_test_or2.to_csv('op_attn_pol_full.csv', sep='\\t')"
      ],
      "execution_count": 0,
      "outputs": []
    },
    {
      "cell_type": "code",
      "metadata": {
        "id": "0qsC9KM-s6QH",
        "colab_type": "code",
        "colab": {}
      },
      "source": [
        "# For Art_claim model\n",
        "x_test_or['pred_label2'] = pred2.detach().numpy()\n",
        "unique_test_or3 = x_test_or[~x_test_or['claim_text'].isin(x_train_or['claim_text'])]\n",
        "unique_test_or3.head()"
      ],
      "execution_count": 0,
      "outputs": []
    },
    {
      "cell_type": "code",
      "metadata": {
        "id": "2GF60ET-tAvJ",
        "colab_type": "code",
        "colab": {}
      },
      "source": [
        "bin_pred3=unique_test_or3['bin_cred_label'].tolist()\n",
        "pred_val3=unique_test_or3['pred_label2'].tolist()"
      ],
      "execution_count": 0,
      "outputs": []
    },
    {
      "cell_type": "code",
      "metadata": {
        "id": "bOTrL89jtDP0",
        "colab_type": "code",
        "colab": {}
      },
      "source": [
        "plot_confusion_matrix(bin_pred3,pred_val3,[0,1])\n",
        "plot_confusion_matrix(bin_pred3,pred_val3,[0,1], normalize=True)"
      ],
      "execution_count": 0,
      "outputs": []
    },
    {
      "cell_type": "code",
      "metadata": {
        "id": "BysqYlVVtHfh",
        "colab_type": "code",
        "colab": {}
      },
      "source": [
        "ac_p,ac_r,ac_a,ac_f1 = evaluation_summary(\"Self Attention-article and claim\", pred_val3, bin_pred3)"
      ],
      "execution_count": 0,
      "outputs": []
    },
    {
      "cell_type": "code",
      "metadata": {
        "id": "HHix3vnTtHcr",
        "colab_type": "code",
        "colab": {}
      },
      "source": [
        "fpr, tpr, thresholds = roc_curve(bin_pred3, pred_val3)\n",
        "auc_arts = auc(fpr, tpr)\n",
        "print(\"Self Attention-Article_souces AUC-\",auc_arts)"
      ],
      "execution_count": 0,
      "outputs": []
    },
    {
      "cell_type": "code",
      "metadata": {
        "id": "Tr9FjUVKtMUl",
        "colab_type": "code",
        "colab": {}
      },
      "source": [
        "label_counts = unique_test_or3['bin_cred_label'].value_counts()\n",
        "print(label_counts.describe())\n",
        "top_labels = label_counts.nlargest(5)\n",
        "top_labels_list = top_labels.index.tolist()\n",
        "print(top_labels)"
      ],
      "execution_count": 0,
      "outputs": []
    },
    {
      "cell_type": "code",
      "metadata": {
        "id": "lgkCJihTtNNQ",
        "colab_type": "code",
        "colab": {}
      },
      "source": [
        "incorrect3 = unique_test_or2[unique_test_or3['bin_cred_label']!=unique_test_or3['pred_label2'].astype(int)]\n",
        "incorrect3"
      ],
      "execution_count": 0,
      "outputs": []
    },
    {
      "cell_type": "code",
      "metadata": {
        "id": "mUBuVjxUtPW3",
        "colab_type": "code",
        "colab": {}
      },
      "source": [
        "# Write to csv\n",
        "unique_test_or3.to_csv('op_attn_pol_artcl.csv', sep='\\t')"
      ],
      "execution_count": 0,
      "outputs": []
    },
    {
      "cell_type": "markdown",
      "metadata": {
        "id": "RgQKsXrf0Hdq",
        "colab_type": "text"
      },
      "source": [
        "## Bibliography"
      ]
    },
    {
      "cell_type": "markdown",
      "metadata": {
        "id": "FuGHVyUJ0LE6",
        "colab_type": "text"
      },
      "source": [
        "Kashyap Popat, Subhabrata Mukherjee, Andrew Yates and Gerhard Weikum, <i>DeClarE: Debunking Fake News and False Claims using Evidence-Aware Deep Learning</i>, Proceedings of the 2018 Conference on Empirical Methods in Natural Language Processing, Pages 22-32, 2018.\n",
        "\n",
        "Zhouhan Lin, Minwei Feng, Cicero Nogueira dos Santos, Mo Yu, Bing Xiang, Bowen Zhou and Yoshua Bengio,<i> A Structured Self-attentive Sentence Embedding</i>, ICLR, 2017."
      ]
    },
    {
      "cell_type": "code",
      "metadata": {
        "id": "7wD06Kq4KG_y",
        "colab_type": "code",
        "colab": {}
      },
      "source": [
        ""
      ],
      "execution_count": 0,
      "outputs": []
    }
  ]
}